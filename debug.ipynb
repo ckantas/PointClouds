{
 "cells": [
  {
   "cell_type": "code",
   "execution_count": 1,
   "id": "99ca7716",
   "metadata": {},
   "outputs": [
    {
     "name": "stdout",
     "output_type": "stream",
     "text": [
      "Jupyter environment detected. Enabling Open3D WebVisualizer.\n",
      "[Open3D INFO] WebRTC GUI backend enabled.\n",
      "[Open3D INFO] WebRTCWindowSystem: HTTP handshake server disabled.\n"
     ]
    }
   ],
   "source": [
    "import multiprocessing\n",
    "import os\n",
    "import time\n",
    "import numpy as np\n",
    "from scipy.spatial import cKDTree\n",
    "import open3d as o3d\n",
    "import util\n",
    "from tqdm import tqdm\n",
    "import matplotlib.pyplot as plt\n",
    "from matplotlib import cm\n",
    "import random\n",
    "from BendLength import BendLengthCalculator\n",
    "from preprocess import preProcessData\n",
    "import pandas as pd"
   ]
  },
  {
   "cell_type": "code",
   "execution_count": 2,
   "id": "943b2c5b",
   "metadata": {},
   "outputs": [
    {
     "data": {
      "text/plain": [
       "TriangleMesh with 4156 points and 2104 triangles."
      ]
     },
     "execution_count": 2,
     "metadata": {},
     "output_type": "execute_result"
    }
   ],
   "source": [
    "point_cloud_location = \"/home/chris/Code/PointClouds/data/FLIPscans/Bendy/Bendy_1/scan1_Part1.ply\"\n",
    "pcd = o3d.io.read_point_cloud(point_cloud_location)\n",
    "\n",
    "mesh = o3d.io.read_triangle_mesh(\"/home/chris/Code/PointClouds/data/FLIPscans/Bendy/BendyCAD.STL\")\n",
    "mesh.compute_vertex_normals()"
   ]
  },
  {
   "cell_type": "code",
   "execution_count": null,
   "id": "2881070c",
   "metadata": {},
   "outputs": [
    {
     "name": "stdout",
     "output_type": "stream",
     "text": [
      "[INFO] Average density (excluding sparse points): 288.62 points per 1.0mm sphere\n",
      "[INFO] Used 998 / 1001 sampled points (≥ 30 neighbors)\n"
     ]
    }
   ],
   "source": [
    "# Preprocess the point cloud\n",
    "pcd, average_density, cad_pcd = preProcessData(pcd, mesh, x_rotation=110, z_rotation=90)\n",
    "pcd_points = np.asarray(pcd.points)\n",
    "\n",
    "o3d.visualization.draw_geometries([pcd])"
   ]
  },
  {
   "cell_type": "code",
   "execution_count": null,
   "id": "d5d04487",
   "metadata": {},
   "outputs": [
    {
     "name": "stdout",
     "output_type": "stream",
     "text": [
      "Identifying main plane\n",
      "Clustering remaining points\n",
      "Found 16 disconnected clusters\n",
      "Filtering clusters\n",
      "Fitting planes to remaining clusters and filtering\n"
     ]
    }
   ],
   "source": [
    "segment_models, segments, segment_indices, main_surface_idx = util.multiOrderRansacAdvanced(pcd, pt_to_plane_dist=0.4, visualize=False, verbose=True)\n",
    "\n",
    "o3d.visualization.draw_geometries([segments[i] for i in segments])\n"
   ]
  },
  {
   "cell_type": "code",
   "execution_count": 16,
   "id": "ba5216ba",
   "metadata": {},
   "outputs": [],
   "source": [
    "plane_model, inliers = pcd.segment_plane(distance_threshold=0.34, ransac_n=3, num_iterations=1000)\n",
    "main_plane = pcd.select_by_index(inliers)\n",
    "remaining = pcd.select_by_index(inliers, invert=True)"
   ]
  },
  {
   "cell_type": "code",
   "execution_count": 17,
   "id": "a2c66e04",
   "metadata": {},
   "outputs": [
    {
     "name": "stdout",
     "output_type": "stream",
     "text": [
      "[INFO] Found 17 disconnected clusters\n"
     ]
    }
   ],
   "source": [
    "labels = np.array(remaining.cluster_dbscan(eps=0.8, min_points=50))\n",
    "num_clusters = labels.max() + 1\n",
    "print(f\"[INFO] Found {num_clusters} disconnected clusters\")\n",
    "\n",
    "# Remove noise (label == -1)\n",
    "clean_indices = np.where(labels >= 0)[0]\n",
    "remaining_clean = remaining.select_by_index(clean_indices)\n",
    "clean_labels = labels[clean_indices]"
   ]
  },
  {
   "cell_type": "code",
   "execution_count": 18,
   "id": "4d52e0df",
   "metadata": {},
   "outputs": [],
   "source": [
    "# Assign new cluster colors\n",
    "num_clean_clusters = clean_labels.max() + 1"
   ]
  },
  {
   "cell_type": "code",
   "execution_count": 19,
   "id": "ba7cc273",
   "metadata": {},
   "outputs": [],
   "source": [
    "def angle_between_normals(n1, n2):\n",
    "    cos_angle = np.clip(np.dot(n1, n2), -1.0, 1.0)\n",
    "    return np.arccos(cos_angle) * 180.0 / np.pi\n",
    "\n",
    "# Get normal of main plane\n",
    "main_plane_normal = np.array(plane_model[:3])\n",
    "main_plane_normal = main_plane_normal / np.linalg.norm(main_plane_normal)\n",
    "\n",
    "# Collect filtered clusters\n",
    "filtered_clusters = []\n",
    "angle_threshold = 15  # degrees\n",
    "\n",
    "for i in range(num_clean_clusters):\n",
    "    indices = np.where(clean_labels == i)[0]\n",
    "    cluster = remaining_clean.select_by_index(indices)\n",
    "\n",
    "    if len(cluster.points) < 30:\n",
    "        continue  # Skip tiny/noisy ones\n",
    "\n",
    "    # Fit plane to cluster\n",
    "    try:\n",
    "        cluster_plane, inliers = cluster.segment_plane(distance_threshold=0.4, ransac_n=3, num_iterations=1000)\n",
    "    except:\n",
    "        continue\n",
    "\n",
    "    cluster_normal = np.array(cluster_plane[:3])\n",
    "    cluster_normal /= np.linalg.norm(cluster_normal)\n",
    "\n",
    "    angle = angle_between_normals(main_plane_normal, cluster_normal)\n",
    "\n",
    "    if angle > angle_threshold:\n",
    "        cluster.paint_uniform_color([0, 1, 0])  # Green for kept\n",
    "        filtered_clusters.append(cluster)\n",
    "    else:\n",
    "        cluster.paint_uniform_color([1, 0, 0])  # Red for removed\n",
    "\n",
    "# Add back main plane (optional)\n",
    "main_plane.paint_uniform_color([0.3, 0.3, 1.0])\n",
    "filtered_clusters.append(main_plane)\n",
    "\n",
    "# # Visualize\n",
    "# o3d.visualization.draw_geometries(filtered_clusters)\n"
   ]
  },
  {
   "cell_type": "code",
   "execution_count": 20,
   "id": "04bab91d",
   "metadata": {},
   "outputs": [],
   "source": [
    "# # Optional: create a new combined point cloud\n",
    "# combined = main_plane + sum(filtered_clusters, o3d.geometry.PointCloud())\n",
    "# o3d.visualization.draw_geometries([combined])\n"
   ]
  },
  {
   "cell_type": "code",
   "execution_count": null,
   "id": "73eddf4c",
   "metadata": {},
   "outputs": [],
   "source": [
    "import matplotlib.pyplot as plt\n",
    "\n",
    "segment_models = {}\n",
    "segments = {}\n",
    "segment_indices = {}\n",
    "filtered_ids = []\n",
    "largest_surface_points = 0\n",
    "main_surface_idx = -1\n",
    "\n",
    "# Colormap\n",
    "cmap = plt.get_cmap(\"tab20\")\n",
    "color_idx = 0\n",
    "\n",
    "for i in range(num_clean_clusters):\n",
    "    indices = np.where(clean_labels == i)[0]\n",
    "    cluster = remaining_clean.select_by_index(indices)\n",
    "\n",
    "    if len(cluster.points) < 30:\n",
    "        continue\n",
    "\n",
    "    try:\n",
    "        cluster_plane, inliers = cluster.segment_plane(distance_threshold=0.4, ransac_n=3, num_iterations=1000)\n",
    "    except:\n",
    "        continue\n",
    "\n",
    "    cluster_normal = np.array(cluster_plane[:3])\n",
    "    cluster_normal /= np.linalg.norm(cluster_normal)\n",
    "    angle = angle_between_normals(main_plane_normal, cluster_normal)\n",
    "\n",
    "    if angle > angle_threshold:\n",
    "        color = cmap(color_idx / 20)[:3]\n",
    "        cluster.paint_uniform_color(color)\n",
    "        segment_models[i] = cluster_plane\n",
    "        segments[i] = cluster\n",
    "        segment_indices[i] = indices\n",
    "        filtered_ids.append(i)\n",
    "\n",
    "        if len(cluster.points) > largest_surface_points:\n",
    "            largest_surface_points = len(cluster.points)\n",
    "            main_surface_idx = i\n",
    "\n",
    "        color_idx += 1  # advance for next unique color\n",
    "    else:\n",
    "        # Optional: keep red color for discarded ones, or skip saving them\n",
    "        pass\n",
    "\n",
    "# Paint and add main surface\n",
    "main_plane.paint_uniform_color([0.3, 0.3, 1.0])\n",
    "segments[\"main_surface\"] = main_plane\n",
    "segment_models[\"main_surface\"] = plane_model\n",
    "segment_indices[\"main_surface\"] = np.array(inliers)\n",
    "\n",
    "# Visualize\n",
    "o3d.visualization.draw_geometries([segments[i] for i in segments])"
   ]
  }
 ],
 "metadata": {
  "kernelspec": {
   "display_name": "pointclouds",
   "language": "python",
   "name": "python3"
  },
  "language_info": {
   "codemirror_mode": {
    "name": "ipython",
    "version": 3
   },
   "file_extension": ".py",
   "mimetype": "text/x-python",
   "name": "python",
   "nbconvert_exporter": "python",
   "pygments_lexer": "ipython3",
   "version": "3.9.16"
  }
 },
 "nbformat": 4,
 "nbformat_minor": 5
}
