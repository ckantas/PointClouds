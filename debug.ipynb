{
 "cells": [
  {
   "cell_type": "code",
   "execution_count": 26,
   "id": "b1cb2472",
   "metadata": {},
   "outputs": [],
   "source": [
    "import multiprocessing\n",
    "import os\n",
    "import time\n",
    "import numpy as np\n",
    "from scipy.spatial import cKDTree\n",
    "import open3d as o3d\n",
    "import util\n",
    "from tqdm import tqdm\n",
    "import matplotlib.pyplot as plt\n",
    "from matplotlib import cm\n",
    "import random\n",
    "from BendLength import BendLengthCalculator"
   ]
  },
  {
   "cell_type": "code",
   "execution_count": 27,
   "id": "40bbc106",
   "metadata": {},
   "outputs": [],
   "source": [
    "point_cloud_location = \"/home/chris/Code/PointClouds/sampled_model.ply\"\n",
    "pcd = o3d.io.read_point_cloud(point_cloud_location)"
   ]
  },
  {
   "cell_type": "code",
   "execution_count": 28,
   "id": "9b31db2c",
   "metadata": {},
   "outputs": [],
   "source": [
    "front =  [-0.47452876114542436, 0.57451207113849134, -0.66690204300328082]\n",
    "lookat = [-6.3976792217838847, 20.927374714553928, 18.659758576873813]\n",
    "up =  [-0.056918726368614558, -0.77607794684805009, -0.62806311705487861]\n",
    "zoom = 0.69999999999999996"
   ]
  },
  {
   "cell_type": "code",
   "execution_count": 53,
   "id": "abcec96b",
   "metadata": {},
   "outputs": [],
   "source": [
    "def multiOrderRansac(pcd, pt_to_plane_dist, visualize=False, verbose=False):\n",
    "\n",
    "    if verbose:\n",
    "        print('Using planar patches to detect number of planes')\n",
    "    oboxes = pcd.detect_planar_patches(\n",
    "    normal_variance_threshold_deg=20,\n",
    "    coplanarity_deg=75,\n",
    "    outlier_ratio=0.2,\n",
    "    min_plane_edge_length=0,\n",
    "    min_num_points=0,\n",
    "    search_param=o3d.geometry.KDTreeSearchParamKNN(knn=30)\n",
    ")\n",
    "\n",
    "    max_plane_idx = len(oboxes)  # Use this as max_plane_idx\n",
    "    if verbose:\n",
    "        print(f'Found {max_plane_idx} planes')\n",
    "    segment_models = {}\n",
    "    segments = {}\n",
    "    segment_indices = {}\n",
    "    main_surface_idx = 0\n",
    "    largest_surface_points = 0\n",
    "    rest = pcd\n",
    "    rest_indices = np.arange(len(pcd.points))\n",
    "    \n",
    "    if verbose:\n",
    "        print('Running multi-order RANSAC')\n",
    "\n",
    "    for i in range(max_plane_idx):\n",
    "        #print(f'Run {i}/{max_plane_idx} started. ', end='')\n",
    "        colors = plt.get_cmap(\"tab20\")(i)\n",
    "        segment_models[i], inliers = rest.segment_plane(distance_threshold=pt_to_plane_dist,ransac_n=3,num_iterations=50000)\n",
    "        segments[i] = rest.select_by_index(inliers)\n",
    "        global_inliers = rest_indices[inliers]\n",
    "        segment_indices[i] = global_inliers\n",
    "        if len(segments[i].points) > largest_surface_points:\n",
    "            largest_surface_points = len(segments[i].points) \n",
    "            main_surface_idx = i\n",
    "        segments[i].paint_uniform_color(list(colors[:3]))\n",
    "        rest = rest.select_by_index(inliers, invert=True)\n",
    "        rest_indices = np.delete(rest_indices, inliers)\n",
    "        #print('Done')\n",
    "\n",
    "    if visualize:\n",
    "        o3d.visualization.draw_geometries([segments[i] for i in range(max_plane_idx)],zoom=zoom,front=front,lookat=lookat,up=up)\n",
    "\n",
    "    print(f'Largest surface is {largest_surface_points} points, index {main_surface_idx}')\n",
    "    \n",
    "    return segment_models, segments, segment_indices, main_surface_idx"
   ]
  },
  {
   "cell_type": "code",
   "execution_count": 64,
   "id": "bbe3c026",
   "metadata": {},
   "outputs": [
    {
     "name": "stdout",
     "output_type": "stream",
     "text": [
      "Using planar patches to detect number of planes\n",
      "Found 7 planes\n",
      "Running multi-order RANSAC\n",
      "Largest surface is 821277 points, index 0\n",
      "segment_models: {0: array([-7.29786835e-10, -2.47882753e-09,  1.00000000e+00, -1.00000001e+00]), 1: array([-5.73576663e-01,  2.51548819e-08,  8.19151886e-01,  8.57598890e+01]), 2: array([ 5.73576566e-01, -3.50669055e-08,  8.19151954e-01, -8.63130885e+01]), 3: array([   0.28678808,    0.4967315 ,    0.81915226, -117.80455137]), 4: array([ -0.28678815,   0.49673157,   0.81915219, -31.76811987]), 5: array([ 0.28678812, -0.49673157,  0.8191522 , 31.21490729]), 6: array([ -0.28678802,  -0.4967315 ,   0.81915228, 117.25131757])}\n"
     ]
    }
   ],
   "source": [
    "# Preprocess the point cloud\n",
    "pcd = util.preProcessCloud(pcd)\n",
    "pcd_points = np.asarray(pcd.points)\n",
    "\n",
    "# Detect planes, intersections, and anchor points\n",
    "segment_models, segments, segment_indices, main_surface_idx = multiOrderRansac(pcd, pt_to_plane_dist=0.001, verbose=True, visualize=True)\n",
    "print(f'segment_models: {segment_models}')"
   ]
  },
  {
   "cell_type": "code",
   "execution_count": 65,
   "id": "732eb95d",
   "metadata": {},
   "outputs": [],
   "source": [
    "def findAnglesBetweenPlanes(segment_models, main_surface_idx):\n",
    "    angles_rad = {}\n",
    "    angles_deg = {}\n",
    "\n",
    "    for i in range(len(segment_models)):\n",
    "        if i != main_surface_idx:\n",
    "            dot_product = np.dot(segment_models[main_surface_idx][:3], segment_models[i][:3])\n",
    "            angles_rad[i] = np.arccos(np.clip(dot_product, -1, 1))\n",
    "            angles_deg[i] = angles_rad[i] * 180 / np.pi\n",
    "            print(angles_deg[i])\n",
    "\n",
    "    return angles_rad"
   ]
  },
  {
   "cell_type": "code",
   "execution_count": 66,
   "id": "1599fc6b",
   "metadata": {},
   "outputs": [
    {
     "name": "stdout",
     "output_type": "stream",
     "text": [
      "35.00001578462026\n",
      "35.00000910471435\n",
      "34.99997909410215\n",
      "34.99998583979463\n",
      "34.99998451962698\n",
      "34.99997653411315\n"
     ]
    }
   ],
   "source": [
    "angles_rad = findAnglesBetweenPlanes(segment_models, main_surface_idx)\n"
   ]
  },
  {
   "cell_type": "code",
   "execution_count": 67,
   "id": "d97daf2a",
   "metadata": {},
   "outputs": [],
   "source": [
    "def findIntersectionLines(segment_models, main_surface_idx):\n",
    "\n",
    "    intersection_lines = {}\n",
    "\n",
    "    for i in range(len(segment_models)):\n",
    "        if i != main_surface_idx:\n",
    "            cross_product = np.cross(segment_models[main_surface_idx][:3], segment_models[i][:3])\n",
    "            if abs(abs(cross_product[2]) < 0.0001):\n",
    "                common_point = np.linalg.solve([segment_models[main_surface_idx][1:3], segment_models[i][1:3]],\n",
    "                                        [-segment_models[main_surface_idx][-1], -segment_models[i][-1]])\n",
    "            else:\n",
    "                common_point = np.linalg.solve([segment_models[main_surface_idx][:2], segment_models[i][:2]],\n",
    "                                        [-segment_models[main_surface_idx][-1], -segment_models[i][-1]])\n",
    "\n",
    "            common_point = np.asarray([common_point[0], common_point[1], 0])\n",
    "                \n",
    "            intersection_lines[i] = [cross_product,common_point]\n",
    "\n",
    "    return intersection_lines"
   ]
  },
  {
   "cell_type": "code",
   "execution_count": 69,
   "id": "5f5dce4b",
   "metadata": {},
   "outputs": [],
   "source": [
    "def findIntersectionLines(segment_models, main_surface_idx):\n",
    "    \"\"\"\n",
    "    Computes intersection lines between the main plane and other segment planes.\n",
    "    Each line is represented by (direction_vector, point_on_line).\n",
    "    \"\"\"\n",
    "    intersection_lines = {}\n",
    "\n",
    "    main_plane = segment_models[main_surface_idx]\n",
    "    n1 = main_plane[:3]\n",
    "    d1 = -main_plane[3]\n",
    "\n",
    "    for i, plane in segment_models.items():\n",
    "        if i == main_surface_idx:\n",
    "            continue\n",
    "\n",
    "        n2 = plane[:3]\n",
    "        d2 = -plane[3]\n",
    "\n",
    "        # Direction of intersection = cross product of normals\n",
    "        direction = np.cross(n1, n2)\n",
    "        if np.linalg.norm(direction) < 1e-6:\n",
    "            continue  # Planes are parallel or identical\n",
    "\n",
    "        # Build coefficient matrix and solve for point on line\n",
    "        A = np.array([n1, n2, direction])\n",
    "        b = np.array([d1, d2, 0])\n",
    "\n",
    "        # Use least-squares to solve A x = b (more stable than direct solve)\n",
    "        try:\n",
    "            point_on_line = np.linalg.lstsq(A, b, rcond=None)[0]\n",
    "        except np.linalg.LinAlgError:\n",
    "            continue  # Skip if system is badly conditioned\n",
    "\n",
    "        intersection_lines[i] = [direction, point_on_line]\n",
    "\n",
    "    return intersection_lines\n"
   ]
  },
  {
   "cell_type": "code",
   "execution_count": 70,
   "id": "122d5e82",
   "metadata": {},
   "outputs": [
    {
     "name": "stdout",
     "output_type": "stream",
     "text": [
      "{1: [array([-2.71854181e-08, -5.73576662e-01, -1.42179764e-09]), array([ 1.50945892e+02, -7.15675734e-06,  1.00000012e+00])], 2: [array([3.30363691e-08, 5.73576567e-01, 1.42179741e-09]), array([ 1.49054096e+02, -8.58756827e-06,  1.00000012e+00])], 3: [array([-4.96731501e-01,  2.86788078e-01,  3.48390073e-10]), array([101.97896599, 176.6327429 ,   1.00000052])], 4: [array([-4.96731568e-01, -2.86788154e-01, -1.07340653e-09]), array([-26.97895227,  46.72890801,   1.0000001 ])], 5: [array([4.96731567e-01, 2.86788119e-01, 1.07340644e-09]), array([-27.92485106,  48.36725829,   1.00000011])], 6: [array([ 4.96731494e-01, -2.86788017e-01, -3.48389927e-10]), array([102.9248393 , 178.27107889,   1.00000052])]}\n"
     ]
    }
   ],
   "source": [
    "intersection_lines = findIntersectionLines(segment_models, main_surface_idx)\n",
    "print(intersection_lines)"
   ]
  },
  {
   "cell_type": "code",
   "execution_count": 75,
   "id": "8a8dd17e",
   "metadata": {},
   "outputs": [],
   "source": [
    "def findAnchorPoints(segment_models, segments, intersection_lines, main_surface_idx, visualize=False):\n",
    "    anchor_points = {}\n",
    "    max_plane_idx = len(segment_models)\n",
    "    for i in range(len(segment_models)):\n",
    "        if i != main_surface_idx:\n",
    "            segment_center = segments[i].get_center()\n",
    "            b_vec = [sc - il for sc, il in zip(segment_center, intersection_lines[i][1])]\n",
    "            a_vec = intersection_lines[i][0]/np.linalg.norm(intersection_lines[i][0])\n",
    "            p_vec = np.dot(a_vec,b_vec)/np.dot(a_vec,a_vec) * a_vec\n",
    "            anchor_points[i] = intersection_lines[i][1] + p_vec\n",
    "    \n",
    "    if visualize:\n",
    "        sphere_radius = 2  # Adjust the radius based on your scale\n",
    "        spheres = []\n",
    "        for point in anchor_points.values():\n",
    "            sphere = o3d.geometry.TriangleMesh.create_sphere(radius=sphere_radius)\n",
    "            sphere.translate(point)  # Move the sphere to the anchor point\n",
    "            sphere.paint_uniform_color([1, 0, 0])  # Red color for visibility\n",
    "            spheres.append(sphere)\n",
    "\n",
    "        # Visualize\n",
    "        o3d.visualization.draw_geometries([segments[i] for i in range(max_plane_idx)]+spheres, zoom=zoom, front=front, lookat=lookat, up=up)\n",
    "    \n",
    "    return anchor_points"
   ]
  },
  {
   "cell_type": "code",
   "execution_count": 76,
   "id": "f7f01260",
   "metadata": {},
   "outputs": [],
   "source": [
    "anchor_points = findAnchorPoints(segment_models, segments, intersection_lines, main_surface_idx, visualize=True)"
   ]
  },
  {
   "cell_type": "code",
   "execution_count": 77,
   "id": "b9586979",
   "metadata": {},
   "outputs": [],
   "source": [
    "sample_dist = 0.3\n",
    "aggregation_range = 15\n",
    "eigen_threshold = 0.05\n",
    "angle_threshold = 0.12\n",
    "radius = 1.5\n",
    "bend_length_calculator = BendLengthCalculator(pcd, anchor_points, intersection_lines, eigen_threshold, angle_threshold, aggregation_range, sample_dist, radius)\n",
    "bend_edges = bend_length_calculator.compute_bend_lengths()"
   ]
  }
 ],
 "metadata": {
  "kernelspec": {
   "display_name": "pointclouds",
   "language": "python",
   "name": "python3"
  },
  "language_info": {
   "codemirror_mode": {
    "name": "ipython",
    "version": 3
   },
   "file_extension": ".py",
   "mimetype": "text/x-python",
   "name": "python",
   "nbconvert_exporter": "python",
   "pygments_lexer": "ipython3",
   "version": "3.9.16"
  }
 },
 "nbformat": 4,
 "nbformat_minor": 5
}
