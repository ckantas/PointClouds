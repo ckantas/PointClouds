{
 "cells": [
  {
   "cell_type": "code",
   "execution_count": null,
   "id": "0141cd88",
   "metadata": {},
   "outputs": [],
   "source": [
    "import open3d as o3d\n",
    "\n",
    "# Load mesh file (replace with your filename)\n",
    "mesh = o3d.io.read_triangle_mesh(\"/home/chris/Code/PointClouds/data/FLIPscans/GrateAndCover/gratenew.obj\")\n",
    "\n",
    "# Optional: check if mesh is watertight and normals are consistent\n",
    "mesh.compute_vertex_normals()\n",
    "\n",
    "# Sample N points from the mesh surface\n",
    "pcd = mesh.sample_points_poisson_disk(\n",
    "    number_of_points=2000000, \n",
    "    init_factor=5  # (optional) more initial candidates for better distribution\n",
    ")\n",
    "\n",
    "# Optional: Estimate normals for the point cloud (if needed)\n",
    "pcd.estimate_normals(search_param=o3d.geometry.KDTreeSearchParamHybrid(radius=1.0, max_nn=30))\n",
    "\n",
    "# Save to file\n",
    "o3d.io.write_point_cloud(\"sampled_model.ply\", pcd)\n",
    "\n",
    "# Visualize the point cloud\n",
    "o3d.visualization.draw_geometries([pcd])\n"
   ]
  },
  {
   "cell_type": "code",
   "execution_count": null,
   "id": "27df86ec",
   "metadata": {},
   "outputs": [],
   "source": []
  },
  {
   "cell_type": "code",
   "execution_count": null,
   "id": "28b3403d",
   "metadata": {},
   "outputs": [],
   "source": []
  }
 ],
 "metadata": {
  "kernelspec": {
   "display_name": "pointclouds",
   "language": "python",
   "name": "python3"
  },
  "language_info": {
   "codemirror_mode": {
    "name": "ipython",
    "version": 3
   },
   "file_extension": ".py",
   "mimetype": "text/x-python",
   "name": "python",
   "nbconvert_exporter": "python",
   "pygments_lexer": "ipython3",
   "version": "3.9.16"
  }
 },
 "nbformat": 4,
 "nbformat_minor": 5
}
