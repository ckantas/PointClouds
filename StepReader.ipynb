{
 "cells": [
  {
   "cell_type": "code",
   "execution_count": null,
   "metadata": {},
   "outputs": [],
   "source": [
    "from OCCT.STEP import read_step_file\n",
    "from OCCT.TopoDS import TopoDS_Shape\n",
    "from OCCT.Visualization import Viewer\n",
    "\n",
    "# Initialize the viewer\n",
    "viewer = Viewer()\n",
    "\n",
    "# Read the STEP file\n",
    "step_shape = read_step_file(\"/home/chris/Code/PointClouds/data/other_files/MortenPartSTEPVersion.STEP\")\n",
    "\n",
    "# Display the shape\n",
    "viewer.display(step_shape)\n",
    "\n",
    "# Start the display loop\n",
    "viewer.start()"
   ]
  }
 ],
 "metadata": {
  "kernelspec": {
   "display_name": "step",
   "language": "python",
   "name": "python3"
  },
  "language_info": {
   "name": "python",
   "version": "3.8.19"
  }
 },
 "nbformat": 4,
 "nbformat_minor": 2
}
