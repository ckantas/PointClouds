{
 "cells": [
  {
   "cell_type": "code",
   "execution_count": null,
   "metadata": {},
   "outputs": [],
   "source": [
    "#Imports\n",
    "\n",
    "import numpy as np\n",
    "import open3d as o3d\n",
    "import matplotlib.pyplot as plt\n",
    "import plotly.graph_objects as go"
   ]
  },
  {
   "cell_type": "code",
   "execution_count": null,
   "metadata": {},
   "outputs": [],
   "source": [
    "#Load and prepare data\n",
    "\n",
    "point_cloud_path = \"/home/chris/Code/PointClouds/data/ply/Cover/CoverCleaned.ply\"\n",
    "output_path = ''\n",
    "\n",
    "pcd = o3d.io.read_point_cloud(point_cloud_path)\n",
    "xyz_only = np.asarray(pcd.points)  # Extract only x, y, z coordinates\n",
    "pcd.points = o3d.utility.Vector3dVector(xyz_only)\n",
    "print(f'Number of points = {len(pcd.points)}')"
   ]
  },
  {
   "cell_type": "code",
   "execution_count": null,
   "metadata": {},
   "outputs": [],
   "source": [
    "#Downsample if necessary\n",
    "\n",
    "voxel_down_pcd = pcd.voxel_down_sample(voxel_size=1)\n",
    "xyz_downsampled = np.asarray(voxel_down_pcd.points)\n",
    "print(f'Number of points in downsampled pcd = {len(voxel_down_pcd.points)}')"
   ]
  },
  {
   "cell_type": "code",
   "execution_count": null,
   "metadata": {},
   "outputs": [],
   "source": [
    "# Visualize point cloud using Plotly\n",
    "fig = go.Figure(data=[go.Scatter3d(\n",
    "    x=xyz_downsampled[:, 0],\n",
    "    y=xyz_downsampled[:, 1],\n",
    "    z=xyz_downsampled[:, 2],\n",
    "    mode='markers',\n",
    "    marker=dict(\n",
    "        size=2,\n",
    "        color='blue',\n",
    "    )\n",
    ")])\n",
    "\n",
    "# Set equal aspect ratio and update layout\n",
    "fig.update_layout(\n",
    "    scene=dict(\n",
    "        xaxis_title='X Axis',\n",
    "        yaxis_title='Y Axis',\n",
    "        zaxis_title='Z Axis',\n",
    "        aspectmode='data'  # This forces equal aspect ratio\n",
    "    ),\n",
    "    margin=dict(l=0, r=0, b=0, t=0)\n",
    ")\n",
    "fig.show()"
   ]
  },
  {
   "cell_type": "code",
   "execution_count": null,
   "metadata": {},
   "outputs": [],
   "source": [
    "#Normal Estimation\n",
    "pcd.estimate_normals(search_param=o3d.geometry.KDTreeSearchParamHybrid(radius=0.1, max_nn=30))"
   ]
  },
  {
   "cell_type": "code",
   "execution_count": null,
   "metadata": {},
   "outputs": [],
   "source": [
    "#Mesh Generation with Ball Pivoting\n",
    "\n",
    "distances = pcd.compute_nearest_neighbor_distance()\n",
    "avg_dist = np.mean(distances)\n",
    "radius = 3* avg_dist\n",
    "\n",
    "#Compute the mesh\n",
    "bpa_mesh = o3d.geometry.TriangleMesh.create_from_point_cloud_ball_pivoting(pcd,o3d.utility.DoubleVector([radius, radius*2]))\n",
    "\n",
    "dec_mesh = bpa_mesh.simplify_quadric_decimation(100000)\n"
   ]
  },
  {
   "cell_type": "code",
   "execution_count": null,
   "metadata": {},
   "outputs": [],
   "source": [
    "dec_mesh.remove_degenerate_triangles()\n",
    "dec_mesh.remove_duplicated_triangles()\n",
    "dec_mesh.remove_duplicated_vertices()\n",
    "dec_mesh.remove_non_manifold_edges()"
   ]
  },
  {
   "cell_type": "code",
   "execution_count": null,
   "metadata": {},
   "outputs": [],
   "source": [
    "output_mesh_path = \"/home/chris/Code/PointClouds/data/obj/ConvertedMesh.obj\"  # Change this to your desired path\n",
    "\n",
    "# Save the mesh as an OBJ file\n",
    "o3d.io.write_triangle_mesh(output_mesh_path, dec_mesh)"
   ]
  }
 ],
 "metadata": {
  "kernelspec": {
   "display_name": "pointclouds",
   "language": "python",
   "name": "python3"
  },
  "language_info": {
   "codemirror_mode": {
    "name": "ipython",
    "version": 3
   },
   "file_extension": ".py",
   "mimetype": "text/x-python",
   "name": "python",
   "nbconvert_exporter": "python",
   "pygments_lexer": "ipython3",
   "version": "3.11.7"
  }
 },
 "nbformat": 4,
 "nbformat_minor": 2
}
