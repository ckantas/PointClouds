{
 "cells": [
  {
   "cell_type": "code",
   "execution_count": 10,
   "metadata": {},
   "outputs": [],
   "source": [
    "import multiprocessing\n",
    "import os\n",
    "import time\n",
    "import numpy as np\n",
    "from scipy.spatial import cKDTree\n",
    "import open3d as o3d\n",
    "import util\n",
    "from tqdm import tqdm\n",
    "import matplotlib.pyplot as plt\n",
    "from matplotlib import cm\n",
    "import random\n",
    "from BendLength import BendLengthCalculator"
   ]
  },
  {
   "cell_type": "code",
   "execution_count": 11,
   "metadata": {},
   "outputs": [],
   "source": [
    "point_cloud_location = \"/home/chris/Code/PointClouds/data/ply/CircularVentilationGrateExtraCleanedFull.ply\"\n",
    "pcd = o3d.io.read_point_cloud(point_cloud_location)"
   ]
  },
  {
   "cell_type": "code",
   "execution_count": 12,
   "metadata": {},
   "outputs": [],
   "source": [
    "# Preprocess the point cloud\n",
    "pcd = util.preProcessCloud(pcd)\n",
    "pcd_points = np.asarray(pcd.points)\n",
    "\n",
    "# Detect planes, intersections, and anchor points\n",
    "segment_models, segments, segments_indices, main_surface_idx = util.multiOrderRansac(pcd, pt_to_plane_dist=0.4)\n",
    "angles_rad = util.findAnglesBetweenPlanes(segment_models, main_surface_idx)\n",
    "intersection_lines = util.findIntersectionLines(segment_models, main_surface_idx)\n",
    "anchor_points = util.findAnchorPoints(segment_models, segments, intersection_lines, main_surface_idx)\n",
    "\n",
    "sample_dist = 0.3\n",
    "aggregation_range = 15\n",
    "eigen_threshold = 0.05\n",
    "angle_threshold = 0.12\n",
    "radius = 1.5\n",
    "bend_length_calculator = BendLengthCalculator(pcd, anchor_points, intersection_lines, eigen_threshold, angle_threshold, aggregation_range, sample_dist, radius)\n",
    "bend_edges = bend_length_calculator.compute_bend_lengths()\n",
    "\n",
    "# Calculate per point normal variance and 'core' points\n",
    "all_normals, pointwise_variance = util.calculatePointwiseNormalVariance(pcd, radius=1.5)\n",
    "core_indices = util.getCorePoints(pointwise_variance)\n",
    "\n",
    "clusters = util.growRegionsAroundIntersections(anchor_points, core_indices, pointwise_variance, pcd_points, bend_edges, variance_percentile=95)"
   ]
  },
  {
   "cell_type": "code",
   "execution_count": 13,
   "metadata": {},
   "outputs": [
    {
     "name": "stdout",
     "output_type": "stream",
     "text": [
      "Anchors:  {1: array([ 41.19450893, 326.50103244, 475.00187119]), 2: array([ 78.21175438, 254.66274528, 475.22954313]), 3: array([-39.04537096, 320.18666622, 475.14018898]), 4: array([-40.04310393, 179.98191963, 475.68831175]), 5: array([-74.83269349, 252.14983568, 475.456198  ]), 6: array([ 43.58219456, 181.24227952, 475.5649044 ])}\n",
      "Bend edges:  {1: (array([ 61.21394217, 363.76337446, 474.82820533]), array([ 15.77976744, 279.19635711, 475.22234062])), 2: (array([127.10818653, 255.24909058, 475.15797303]), array([ 30.51523468, 254.09078881, 475.29935692])), 3: (array([-63.23344703, 360.95039312, 475.01550972]), array([-13.78567126, 277.61695141, 475.270392  ])), 4: (array([-59.5150289 , 143.78764288, 475.85703705]), array([-13.74889867, 228.85740284, 475.46047102])), 5: (array([-122.22442145,  251.26714799,  475.52679156]), array([-27.44096553, 253.03252337, 475.38560443])), 6: (array([ 64.87948956, 145.39115389, 475.67452374]), array([ 16.00296363, 227.66819761, 475.4229513 ]))}\n",
      "Clusters types: <class 'dict'>\n",
      "Number of clusters:  6\n"
     ]
    }
   ],
   "source": [
    "#print(\"Number of points in each cluster: \", [len(cluster) for cluster in clusters])\n",
    "print(\"Anchors: \", anchor_points)\n",
    "#print(\"Core points: \", core_indices)\n",
    "print(\"Bend edges: \", bend_edges)\n",
    "print(\"Clusters types:\", type(clusters))\n",
    "print(\"Number of clusters: \", len(clusters))"
   ]
  },
  {
   "cell_type": "code",
   "execution_count": 14,
   "metadata": {},
   "outputs": [],
   "source": [
    "#plane_points = np.asarray(segments[1].points)\n",
    "plane_indices = segments_indices[0]\n",
    "# plane_normals = all_normals[plane_indices]\n",
    "bend_indices = list(clusters[2])\n",
    "bend_points = pcd_points[bend_indices]\n",
    "bend_normals = all_normals[bend_indices]\n",
    "\n",
    "plane_indices = list(set(plane_indices) - set(clusters[2]))"
   ]
  },
  {
   "cell_type": "code",
   "execution_count": 15,
   "metadata": {},
   "outputs": [],
   "source": [
    "plane_points = pcd_points[plane_indices]\n",
    "plane_normals = all_normals[plane_indices]"
   ]
  },
  {
   "cell_type": "code",
   "execution_count": 16,
   "metadata": {},
   "outputs": [],
   "source": [
    "class CombinedHistogramVisualizer:\n",
    "    def __init__(self, plane_points, plane_normals, bend_points, bend_normals, bin_size=5):\n",
    "        # Combine points and normals\n",
    "        self.points = np.vstack((plane_points, bend_points))\n",
    "        self.normals = np.vstack((plane_normals, bend_normals))\n",
    "        self.bin_size = bin_size\n",
    "        self.n_plane = len(plane_points)\n",
    "        self.n_total = len(self.points)\n",
    "\n",
    "        # Compute angles\n",
    "        self.azimuth, self.zenith = self.compute_azimuth_zenith(self.normals)\n",
    "        self.az_bins = np.arange(-180, 180 + bin_size, bin_size)\n",
    "        self.zen_bins = np.arange(0, 180 + bin_size, bin_size)\n",
    "        self.az_bin_idx = 0\n",
    "        self.zen_bin_idx = 0\n",
    "        self.mode = 'azimuth'\n",
    "\n",
    "        # Open3D setup\n",
    "        self.pcd = o3d.geometry.PointCloud()\n",
    "        self.pcd.points = o3d.utility.Vector3dVector(self.points)\n",
    "        self.vis = o3d.visualization.VisualizerWithKeyCallback()\n",
    "        self.vis.create_window(\"Plane + Bend Normal Visualizer\")\n",
    "        self.vis.add_geometry(self.pcd)\n",
    "\n",
    "        self.vis.register_key_callback(262, self.next_azimuth)  # →\n",
    "        self.vis.register_key_callback(263, self.prev_azimuth)  # ←\n",
    "        self.vis.register_key_callback(264, self.prev_zenith)   # ↓\n",
    "        self.vis.register_key_callback(265, self.next_zenith)   # ↑\n",
    "\n",
    "        # Histogram setup\n",
    "        self.fig, self.axs = plt.subplots(1, 2, figsize=(10, 4))\n",
    "        self.az_bar_plane = self.axs[0].hist(self.azimuth[:self.n_plane], bins=self.az_bins, alpha=0.5, color='blue', label='Plane')[2]\n",
    "        self.az_bar_bend = self.axs[0].hist(self.azimuth[self.n_plane:], bins=self.az_bins, alpha=0.5, color='orange', label='Bend')[2]\n",
    "        self.zen_bar_plane = self.axs[1].hist(self.zenith[:self.n_plane], bins=self.zen_bins, alpha=0.5, color='blue', label='Plane')[2]\n",
    "        self.zen_bar_bend = self.axs[1].hist(self.zenith[self.n_plane:], bins=self.zen_bins, alpha=0.5, color='orange', label='Bend')[2]\n",
    "        self.axs[0].set_title(\"Azimuth\")\n",
    "        self.axs[1].set_title(\"Zenith\")\n",
    "        self.axs[0].legend()\n",
    "        self.axs[1].legend()\n",
    "        plt.tight_layout()\n",
    "        plt.ion()\n",
    "        plt.show()\n",
    "\n",
    "        self.update_visualization()\n",
    "\n",
    "    def compute_azimuth_zenith(self, normals):\n",
    "        az = np.degrees(np.arctan2(normals[:, 1], normals[:, 0]))\n",
    "        zen = np.degrees(np.arccos(np.clip(normals[:, 2], -1.0, 1.0)))\n",
    "        return az, zen\n",
    "\n",
    "    def highlight_bin(self, mode):\n",
    "        if mode == 'azimuth':\n",
    "            start = self.az_bins[self.az_bin_idx]\n",
    "            end = start + self.bin_size\n",
    "            mask = (self.azimuth >= start) & (self.azimuth < end)\n",
    "        else:\n",
    "            start = self.zen_bins[self.zen_bin_idx]\n",
    "            end = start + self.bin_size\n",
    "            mask = (self.zenith >= start) & (self.zenith < end)\n",
    "\n",
    "        # Base colors\n",
    "        plane_base = np.array([0.5, 0.7, 1.0])   # light blue\n",
    "        bend_base = np.array([1.0, 0.7, 0.4])    # light orange\n",
    "        highlight = np.array([0.0, 1.0, 0.0])    # green\n",
    "\n",
    "        colors = np.zeros((self.n_total, 3))\n",
    "        colors[:self.n_plane] = plane_base\n",
    "        colors[self.n_plane:] = bend_base\n",
    "        colors[mask] = highlight\n",
    "        self.pcd.colors = o3d.utility.Vector3dVector(colors)\n",
    "\n",
    "    def update_histogram_highlights(self):\n",
    "        for i, bar in enumerate(self.az_bar_plane):\n",
    "            bar.set_color('green' if i == self.az_bin_idx and self.mode == 'azimuth' else 'blue')\n",
    "        for i, bar in enumerate(self.az_bar_bend):\n",
    "            bar.set_color('green' if i == self.az_bin_idx and self.mode == 'azimuth' else 'orange')\n",
    "        for i, bar in enumerate(self.zen_bar_plane):\n",
    "            bar.set_color('green' if i == self.zen_bin_idx and self.mode == 'zenith' else 'blue')\n",
    "        for i, bar in enumerate(self.zen_bar_bend):\n",
    "            bar.set_color('green' if i == self.zen_bin_idx and self.mode == 'zenith' else 'orange')\n",
    "\n",
    "        self.fig.canvas.draw()\n",
    "        self.fig.canvas.flush_events()\n",
    "\n",
    "    def update_visualization(self):\n",
    "        self.highlight_bin(self.mode)\n",
    "        self.update_histogram_highlights()\n",
    "        self.vis.update_geometry(self.pcd)\n",
    "\n",
    "    def next_azimuth(self, vis):\n",
    "        self.mode = 'azimuth'\n",
    "        self.az_bin_idx = (self.az_bin_idx + 1) % len(self.az_bins[:-1])\n",
    "        self.update_visualization()\n",
    "\n",
    "    def prev_azimuth(self, vis):\n",
    "        self.mode = 'azimuth'\n",
    "        self.az_bin_idx = (self.az_bin_idx - 1) % len(self.az_bins[:-1])\n",
    "        self.update_visualization()\n",
    "\n",
    "    def next_zenith(self, vis):\n",
    "        self.mode = 'zenith'\n",
    "        self.zen_bin_idx = (self.zen_bin_idx + 1) % len(self.zen_bins[:-1])\n",
    "        self.update_visualization()\n",
    "\n",
    "    def prev_zenith(self, vis):\n",
    "        self.mode = 'zenith'\n",
    "        self.zen_bin_idx = (self.zen_bin_idx - 1) % len(self.zen_bins[:-1])\n",
    "        self.update_visualization()\n",
    "\n",
    "    def run(self):\n",
    "        self.vis.run()\n",
    "        self.vis.destroy_window()\n"
   ]
  },
  {
   "cell_type": "code",
   "execution_count": 17,
   "metadata": {},
   "outputs": [
    {
     "data": {
      "image/png": "[encoded data removed]",
      "text/plain": [
       "<Figure size 1000x400 with 2 Axes>"
      ]
     },
     "metadata": {},
     "output_type": "display_data"
    }
   ],
   "source": [
    "visualizer = CombinedHistogramVisualizer(plane_points, plane_normals, bend_points, bend_normals, bin_size=2)\n",
    "visualizer.run()"
   ]
  }
 ],
 "metadata": {
  "kernelspec": {
   "display_name": "pointclouds",
   "language": "python",
   "name": "python3"
  },
  "language_info": {
   "codemirror_mode": {
    "name": "ipython",
    "version": 3
   },
   "file_extension": ".py",
   "mimetype": "text/x-python",
   "name": "python",
   "nbconvert_exporter": "python",
   "pygments_lexer": "ipython3",
   "version": "3.9.16"
  }
 },
 "nbformat": 4,
 "nbformat_minor": 2
}
