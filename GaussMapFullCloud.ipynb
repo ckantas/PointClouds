{
 "cells": [
  {
   "cell_type": "code",
   "execution_count": 7,
   "metadata": {},
   "outputs": [],
   "source": [
    "import numpy as np\n",
    "import open3d as o3d\n",
    "import matplotlib.pyplot as plt\n",
    "import math\n",
    "from functools import partial\n",
    "from open3d.t.geometry import TriangleMesh\n",
    "import util\n",
    "import time\n",
    "import matplotlib.cm as cm\n",
    "from tqdm import tqdm\n",
    "from multiprocessing import Pool"
   ]
  },
  {
   "cell_type": "code",
   "execution_count": 8,
   "metadata": {},
   "outputs": [],
   "source": [
    "dataname = \"C:/Users/chris/Desktop/Documents/NewData/CircularVentilationGrateExtraCleanedFull.ply\"\n",
    "pcd = o3d.io.read_point_cloud(dataname)\n",
    "pcd = util.preProcessCloud(pcd)\n",
    "kdtree = o3d.geometry.KDTreeFlann(pcd)\n",
    "points = np.asarray(pcd.points)"
   ]
  },
  {
   "cell_type": "code",
   "execution_count": null,
   "metadata": {},
   "outputs": [],
   "source": [
    "def find_normal(i):\n",
    "    \"\"\" Compute PCA for a single point and return the normal direction. \"\"\"\n",
    "    _, idx, _ = kdtree.search_knn_vector_3d(points[i], 30)\n",
    "    neighbors = points[idx]\n",
    "    centered = neighbors - np.mean(neighbors, axis=0)\n",
    "    cov = np.cov(centered.T)\n",
    "    eig_val, eig_vec = np.linalg.eigh(cov)\n",
    "    sorted_idx = np.argsort(eig_val)[::-1]\n",
    "    eig_vec = eig_vec[:, sorted_idx]\n",
    "    return eig_vec[:, 2]  # Smallest eigenvector as normal\n",
    "\n",
    "def compute_eigenvalues_parallel(pcd):\n",
    "    n = len(pcd.points)\n",
    "    points = np.asarray(pcd.points)\n",
    "    plane_directions = np.zeros((n, 3))\n",
    "    \"\"\" Compute eigenvalues for all points using parallel processing. \"\"\"\n",
    "    pool = Pool(processes=4)\n",
    "    plane_directions = pool.map(find_normal, range(n))\n",
    "    \n",
    "    pool.close()\n",
    "    pool.join()\n",
    "\n",
    "    return np.array(plane_directions)\n",
    "\n",
    "plane_directions = compute_eigenvalues_parallel(pcd)"
   ]
  },
  {
   "cell_type": "code",
   "execution_count": null,
   "metadata": {},
   "outputs": [
    {
     "name": "stderr",
     "output_type": "stream",
     "text": [
      "100%|██████████| 2114266/2114266 [05:07<00:00, 6879.37it/s] \n"
     ]
    },
    {
     "name": "stdout",
     "output_type": "stream",
     "text": [
      "Plane directions size: (2114266, 3)\n"
     ]
    }
   ],
   "source": [
    "# def compute_eigenvalues_open3d(pcd, k=30):\n",
    "#     \"\"\" Compute eigenvalues for all points using Open3D KD-tree. \"\"\"\n",
    "#     # Convert point cloud to NumPy array\n",
    "#     points = np.asarray(pcd.points)\n",
    "#     n = len(points)\n",
    "#     # Create KD-Tree\n",
    "#     kdtree = o3d.geometry.KDTreeFlann(pcd)\n",
    "#     # Preallocate array for eigenvalues\n",
    "#     plane_directions = []\n",
    "#     for i in tqdm(range(n)):\n",
    "#         #neighbor_coordinates = get_neighbors(points[i], pcd, kdtree, radius=1.2)\n",
    "#         _, idx, _ = kdtree.search_knn_vector_3d(points[i], k)\n",
    "#         neighbors = points[idx]\n",
    "#         centered = neighbors - np.mean(neighbors, axis=0)\n",
    "#         cov = np.cov(centered.T)\n",
    "#         eig_val, eig_vec = np.linalg.eigh(cov)\n",
    "#         sorted_idx = np.argsort(eig_val)[::-1]\n",
    "#         #eig_val = eig_val[sorted_idx]\n",
    "#         eig_vec = eig_vec[:, sorted_idx]\n",
    "#         #eig_val_norm = eig_val.copy()\n",
    "\n",
    "#         #for z in range(len(eig_val)):\n",
    "#             #eig_val_norm[z] = np.exp(eig_val[z])/np.sum(np.exp(eig_val))\n",
    "\n",
    "#         #plane_direction = np.cross(eig_vec[:, 0], eig_vec[:, 1])\n",
    "#         plane_directions.append(eig_vec[:, 2])\n",
    "\n",
    "#     return plane_directions\n",
    "\n",
    "# plane_directions = compute_eigenvalues_open3d(pcd, k=30)\n",
    "# plane_directions = np.array(plane_directions)\n",
    "# print(f'Plane directions size: {plane_directions.shape}')"
   ]
  }
 ],
 "metadata": {
  "kernelspec": {
   "display_name": "pointclouds",
   "language": "python",
   "name": "python3"
  },
  "language_info": {
   "codemirror_mode": {
    "name": "ipython",
    "version": 3
   },
   "file_extension": ".py",
   "mimetype": "text/x-python",
   "name": "python",
   "nbconvert_exporter": "python",
   "pygments_lexer": "ipython3",
   "version": "3.11.8"
  }
 },
 "nbformat": 4,
 "nbformat_minor": 2
}
