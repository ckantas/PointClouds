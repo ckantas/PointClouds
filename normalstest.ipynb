{
 "cells": [
  {
   "cell_type": "code",
   "execution_count": null,
   "id": "30b68a72",
   "metadata": {},
   "outputs": [],
   "source": [
    "import open3d as o3d\n",
    "import numpy as np\n",
    "import matplotlib.pyplot as plt\n",
    "\n",
    "# === Configuration ===\n",
    "point_cloud_path = \"your_point_cloud_file.ply\"  # <- replace with your path\n",
    "radius_values = [0.5, 1.0, 1.5, 2.0, 3.0]\n",
    "max_nn_values = [15, 30]\n",
    "bins = 180\n",
    "\n",
    "# === Load point cloud ===\n",
    "pcd = o3d.io.read_point_cloud(point_cloud_path)\n",
    "\n",
    "# === Main loop ===\n",
    "for radius in radius_values:\n",
    "    for max_nn in max_nn_values:\n",
    "        print(f\"Estimating normals with radius={radius}, max_nn={max_nn}\")\n",
    "\n",
    "        # Copy the point cloud so we don't overwrite previous normals\n",
    "        pcd_copy = pcd.voxel_down_sample(voxel_size=0.1)  # Optional downsample\n",
    "        pcd_copy.estimate_normals(\n",
    "            search_param=o3d.geometry.KDTreeSearchParamHybrid(radius=radius, max_nn=max_nn),\n",
    "            fast_normal_computation=True\n",
    "        )\n",
    "\n",
    "        normals = np.asarray(pcd_copy.normals)\n",
    "\n",
    "        # Compute azimuth and zenith\n",
    "        az = np.degrees(np.arctan2(normals[:, 1], normals[:, 0]))\n",
    "        zen = np.degrees(np.arccos(np.clip(normals[:, 2], -1.0, 1.0)))\n",
    "\n",
    "        # Plot histograms\n",
    "        fig, axs = plt.subplots(1, 2, figsize=(10, 4))\n",
    "        axs[0].hist(az, bins=bins, color='steelblue', edgecolor='black')\n",
    "        axs[0].set_title(f\"Azimuth (r={radius}, nn={max_nn})\")\n",
    "        axs[0].set_xlabel(\"Azimuth (degrees)\")\n",
    "        axs[1].hist(zen, bins=bins, color='tomato', edgecolor='black')\n",
    "        axs[1].set_title(f\"Zenith (r={radius}, nn={max_nn})\")\n",
    "        axs[1].set_xlabel(\"Zenith (degrees)\")\n",
    "        plt.suptitle(f\"Normal Histogram (radius={radius}, max_nn={max_nn})\")\n",
    "        plt.tight_layout()\n",
    "        plt.show()"
   ]
  }
 ],
 "metadata": {
  "kernelspec": {
   "display_name": "pointclouds",
   "language": "python",
   "name": "python3"
  },
  "language_info": {
   "name": "python",
   "version": "3.9.16"
  }
 },
 "nbformat": 4,
 "nbformat_minor": 5
}
