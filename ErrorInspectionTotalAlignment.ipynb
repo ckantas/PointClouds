{
 "cells": [
  {
   "cell_type": "code",
   "execution_count": 1,
   "metadata": {},
   "outputs": [
    {
     "name": "stdout",
     "output_type": "stream",
     "text": [
      "Jupyter environment detected. Enabling Open3D WebVisualizer.\n",
      "[Open3D INFO] WebRTC GUI backend enabled.\n",
      "[Open3D INFO] WebRTCWindowSystem: HTTP handshake server disabled.\n"
     ]
    }
   ],
   "source": [
    "import numpy as np\n",
    "import open3d as o3d\n",
    "import copy\n",
    "import pickle\n",
    "from tqdm import tqdm\n",
    "import numpy as np\n",
    "import matplotlib.pyplot as plt\n",
    "from scipy.spatial import cKDTree\n",
    "from matplotlib.colors import LinearSegmentedColormap\n",
    "\n",
    "from OCC.Core.STEPControl import STEPControl_Reader\n",
    "from OCC.Core.IFSelect import IFSelect_RetDone\n",
    "from OCC.Core.TopAbs import TopAbs_WIRE, TopAbs_EDGE, TopAbs_VERTEX\n",
    "from OCC.Core.TopExp import TopExp_Explorer\n",
    "from OCC.Core.TopoDS import topods\n",
    "from OCC.Core.BRep import BRep_Tool\n",
    "from OCC.Core.BRepAdaptor import BRepAdaptor_Curve\n",
    "from OCC.Core.GeomAbs import GeomAbs_Circle, GeomAbs_Ellipse, GeomAbs_Line, GeomAbs_BSplineCurve, GeomAbs_Hyperbola, GeomAbs_Parabola\n",
    "from OCC.Core.TopAbs import TopAbs_WIRE, TopAbs_EDGE, TopAbs_VERTEX\n",
    "from OCC.Display.SimpleGui import init_display\n",
    "from OCC.Core.Quantity import Quantity_Color, Quantity_TOC_RGB\n",
    "from OCC.Core.gp import gp_Pnt\n",
    "from OCC.Core.BRepBuilderAPI import BRepBuilderAPI_MakeVertex\n",
    "from PyQt5 import QtWidgets\n",
    "from OCC.Core.GCPnts import GCPnts_UniformDeflection\n",
    "from OCC.Core.GProp import GProp_GProps\n",
    "from OCC.Core.BRepGProp import brepgprop"
   ]
  },
  {
   "cell_type": "code",
   "execution_count": 2,
   "metadata": {},
   "outputs": [
    {
     "name": "stdout",
     "output_type": "stream",
     "text": [
      "Point cloud data has been loaded successfully.\n"
     ]
    }
   ],
   "source": [
    "# Read processed point cloud data\n",
    "\n",
    "point_dictionary_path = '/home/chris/Code/PointClouds/data/hull_pcd/morten_plate/mapped_hull_points_dictionary_original.pkl'\n",
    "\n",
    "hull_centers_dictionary = {}\n",
    "\n",
    "with open(point_dictionary_path, 'rb') as f:\n",
    "    hull_points_dictionary = pickle.load(f)\n",
    "\n",
    "hull_pcd = o3d.geometry.PointCloud()\n",
    "\n",
    "for label, points in hull_points_dictionary.items():\n",
    "    hull_pcd.points.extend(o3d.utility.Vector3dVector(points))\n",
    "    center = np.mean(points, axis=0)\n",
    "    hull_centers_dictionary[label] = center\n",
    "    \n",
    "hull_pcd.paint_uniform_color([0.1, 1, 0.1])\n",
    "\n",
    "hull_centers_pcd = o3d.geometry.PointCloud()\n",
    "hull_centers_points = list(hull_centers_dictionary.values())\n",
    "hull_centers_pcd.points = o3d.utility.Vector3dVector(np.array(hull_centers_points))\n",
    "hull_centers_pcd.paint_uniform_color([1, 0, 0])  # Color centers red\n",
    "\n",
    "print(\"Point cloud data has been loaded successfully.\")"
   ]
  },
  {
   "cell_type": "code",
   "execution_count": 3,
   "metadata": {},
   "outputs": [],
   "source": [
    "# # Load cleaned hulls\n",
    "\n",
    "# hull_pcd = o3d.io.read_point_cloud(\"/home/chris/Code/PointClouds/data/ply/MortenHulls.ply\")\n",
    "\n",
    "# eps = 2.5\n",
    "# min_points = 15\n",
    "\n",
    "# hulls_labels = np.array(hull_pcd.cluster_dbscan(eps=eps, min_points=min_points, print_progress=True))\n",
    "\n",
    "# max_label = hulls_labels.max()\n",
    "# print(f\"Hull point cloud has {max_label + 1} clusters\")\n",
    "# base_cmap = plt.get_cmap(\"tab20\")\n",
    "# color_cycle = [base_cmap(i % 20) for i in range(max_label + 1)]\n",
    "# colors = np.array(color_cycle)[hulls_labels]\n",
    "# colors[hulls_labels<0] = 0\n",
    "# hull_pcd.colors = o3d.utility.Vector3dVector(colors[:, :3])\n",
    "\n",
    "# hull_points_dictionary = {}\n",
    "# hull_centers_dictionary = {}\n",
    "\n",
    "# # Extract the points and calculate the centers for each cluster\n",
    "# for label in np.unique(hulls_labels):\n",
    "#     if label != -1:  # Ignore noise\n",
    "#         cluster_points = np.asarray(hull_pcd.points)[hulls_labels == label]\n",
    "#         hull_points_dictionary[label] = cluster_points\n",
    "#         hull_centers_dictionary[label] = np.mean(cluster_points, axis=0)\n",
    "\n",
    "# hull_centers_pcd = o3d.geometry.PointCloud()\n",
    "# hull_centers_points = list(hull_centers_dictionary.values())\n",
    "# hull_centers_pcd.points = o3d.utility.Vector3dVector(np.array(hull_centers_points))\n",
    "# hull_centers_pcd.paint_uniform_color([0, 1, 0])  # Color centers blue\n",
    "\n",
    "# o3d.visualization.draw_geometries([hull_pcd])"
   ]
  },
  {
   "cell_type": "code",
   "execution_count": 4,
   "metadata": {},
   "outputs": [
    {
     "name": "stdout",
     "output_type": "stream",
     "text": [
      "Step file has been loaded successfully.\n"
     ]
    }
   ],
   "source": [
    "# Read cad model data (STEP file)\n",
    "\n",
    "step_file_path = '/home/chris/Code/PointClouds/data/other_files/MortenPartSTEPVersion.STEP'\n",
    "\n",
    "def load_step_file(file_path):\n",
    "    step_reader = STEPControl_Reader()\n",
    "    status = step_reader.ReadFile(file_path)\n",
    "    if status == IFSelect_RetDone:\n",
    "        step_reader.TransferRoots()\n",
    "        shape = step_reader.OneShape()\n",
    "        return shape\n",
    "    else:\n",
    "        raise Exception(\"Error: Cannot read STEP file.\")\n",
    "\n",
    "shape = load_step_file(step_file_path)\n",
    "\n",
    "print('Step file has been loaded successfully.')"
   ]
  },
  {
   "cell_type": "code",
   "execution_count": 5,
   "metadata": {},
   "outputs": [
    {
     "name": "stdout",
     "output_type": "stream",
     "text": [
      "Generating top view edges and sampling to create the associated point cloud...\n",
      "Total number of top view edges: 586\n",
      "Total number of points in the cad point cloud: 81774\n",
      "Top view cad point cloud created.\n"
     ]
    }
   ],
   "source": [
    "# Extract edges at the top Z-coordinate\n",
    "\n",
    "def extract_top_edges(shape, deflection=0.1):\n",
    "    edges = []\n",
    "    max_z = -float('inf')\n",
    "    edge_z_coordinates = []\n",
    "\n",
    "    # First pass to collect the highest Z-coordinate of each edge\n",
    "    exp_edge = TopExp_Explorer(shape, TopAbs_EDGE)\n",
    "    while exp_edge.More():\n",
    "        edge = topods.Edge(exp_edge.Current())\n",
    "        edge_max_z = -float('inf')\n",
    "        exp_vertex = TopExp_Explorer(edge, TopAbs_VERTEX)\n",
    "        vertices = []\n",
    "        while exp_vertex.More():\n",
    "            vertex = topods.Vertex(exp_vertex.Current())\n",
    "            point = BRep_Tool.Pnt(vertex)\n",
    "            vertices.append(point)\n",
    "            if point.Z() > edge_max_z:\n",
    "                edge_max_z = point.Z()\n",
    "            exp_vertex.Next()\n",
    "        edge_z_coordinates.append((edge, edge_max_z, vertices))\n",
    "        if edge_max_z > max_z:\n",
    "            max_z = edge_max_z\n",
    "        exp_edge.Next()\n",
    "\n",
    "    #print(f\"Total number of edges: {len(edge_z_coordinates)}\")\n",
    "    #print(f\"Maximum Z-coordinate found: {max_z}\")\n",
    "\n",
    "    # Collect edges on the top plane\n",
    "    top_edges = []\n",
    "    point_cloud = []\n",
    "    for edge, z, vertices in edge_z_coordinates:\n",
    "        if all(abs(vertex.Z() - max_z) < 1e-3 for vertex in vertices):  # Ensure all vertices are at the top surface\n",
    "            top_edges.append(edge)\n",
    "            #print(f\"Top edge added with highest vertex Z: {z}\")\n",
    "\n",
    "            # Sample points along the edge\n",
    "            curve = BRepAdaptor_Curve(edge)\n",
    "            u_min, u_max = curve.FirstParameter(), curve.LastParameter()\n",
    "\n",
    "            # Calculate the length of the edge\n",
    "            linear_props = GProp_GProps()\n",
    "            brepgprop.LinearProperties(edge, linear_props)\n",
    "            length = linear_props.Mass()\n",
    "\n",
    "            # Calculate the number of samples based on the length and the desired point density\n",
    "            num_samples = int(length / deflection)\n",
    "\n",
    "            for i in range(num_samples):\n",
    "                u = u_min + i * (u_max - u_min) / (num_samples - 1)\n",
    "                pnt = curve.Value(u)\n",
    "                point_cloud.append((pnt.X(), pnt.Y(), pnt.Z()))  # Store the coordinates as a tuple\n",
    "\n",
    "    print(f\"Total number of top view edges: {len(top_edges)}\")\n",
    "    print(f\"Total number of points in the cad point cloud: {len(point_cloud)}\")\n",
    "    return top_edges, point_cloud\n",
    "\n",
    "# Visualize the top edges\n",
    "def visualize_top_edges(top_edges):\n",
    "    display, start_display, add_menu, add_function_to_menu = init_display()\n",
    "\n",
    "    # Assign the color red to each top edge\n",
    "    red_color = Quantity_Color(1.0, 0.0, 0.0, Quantity_TOC_RGB)\n",
    "    \n",
    "    # Display each top edge with the red color\n",
    "    for edge in top_edges:\n",
    "        display.DisplayShape(edge, update=True, color=red_color)\n",
    "\n",
    "    start_display()\n",
    "\n",
    "\n",
    "# Main execution\n",
    "print('Generating top view edges and sampling to create the associated point cloud...')\n",
    "top_edges, cad_points = extract_top_edges(shape)\n",
    "# if top_edges:\n",
    "#     visualize_top_edges(top_edges)\n",
    "# else:\n",
    "#     print(\"Top edges not found.\")\n",
    "\n",
    "cad_pcd = o3d.geometry.PointCloud()\n",
    "cad_pcd.points = o3d.utility.Vector3dVector(np.asarray(cad_points))\n",
    "#o3d.visualization.draw_geometries([cad_pcd])\n",
    "\n",
    "print('Top view cad point cloud created.')"
   ]
  },
  {
   "cell_type": "code",
   "execution_count": 6,
   "metadata": {},
   "outputs": [
    {
     "name": "stdout",
     "output_type": "stream",
     "text": [
      "Precompute neighbors.[========================================] 100%\n",
      "Clustering[========================>     Cad point cloud has 79 clusters\n",
      "Clustering[========================================] 100%\n"
     ]
    },
    {
     "data": {
      "text/plain": [
       "PointCloud with 79 points."
      ]
     },
     "execution_count": 6,
     "metadata": {},
     "output_type": "execute_result"
    }
   ],
   "source": [
    "# Apply clustering to the cad_pcd\n",
    "\n",
    "eps = 0.50\n",
    "min_points = 10\n",
    "\n",
    "cad_shapes_labels = np.array(cad_pcd.cluster_dbscan(eps=eps, min_points=min_points, print_progress=True))\n",
    "\n",
    "max_label = cad_shapes_labels.max()\n",
    "print(f\"Cad point cloud has {max_label + 1} clusters\")\n",
    "base_cmap = plt.get_cmap(\"tab20\")\n",
    "color_cycle = [base_cmap(i % 20) for i in range(max_label + 1)]\n",
    "colors = np.array(color_cycle)[cad_shapes_labels]\n",
    "colors[cad_shapes_labels<0] = 0\n",
    "cad_pcd.colors = o3d.utility.Vector3dVector(colors[:, :3])\n",
    "\n",
    "cad_points_dictionary = {}\n",
    "cad_centers_dictionary = {}\n",
    "\n",
    "# Extract the points and calculate the centers for each cluster\n",
    "for label in np.unique(cad_shapes_labels):\n",
    "    if label != -1:  # Ignore noise\n",
    "        cluster_points = np.asarray(cad_pcd.points)[cad_shapes_labels == label]\n",
    "        cad_points_dictionary[label] = cluster_points\n",
    "        cad_centers_dictionary[label] = np.mean(cluster_points, axis=0)\n",
    "\n",
    "cad_centers_pcd = o3d.geometry.PointCloud()\n",
    "cad_centers_points = list(cad_centers_dictionary.values())\n",
    "cad_centers_pcd.points = o3d.utility.Vector3dVector(np.array(cad_centers_points))\n",
    "cad_centers_pcd.paint_uniform_color([0, 1, 0])  # Color centers blue\n",
    "\n",
    "#o3d.visualization.draw_geometries([cad_pcd])"
   ]
  },
  {
   "cell_type": "code",
   "execution_count": 7,
   "metadata": {},
   "outputs": [],
   "source": [
    "#Align the centers of the two clouds for an initial alignment\n",
    "\n",
    "cad_pcd_center = np.mean(np.asarray(cad_pcd.points), axis=0)\n",
    "hull_pcd_center = np.mean(np.asarray(hull_pcd.points), axis=0)\n",
    "\n",
    "# Compute the translation vector\n",
    "translation = cad_pcd_center - hull_pcd_center\n",
    "\n",
    "# Translate the hull_pcd to align the centers\n",
    "hull_pcd.points = o3d.utility.Vector3dVector(np.asarray(hull_pcd.points) + translation)\n",
    "\n",
    "#o3d.visualization.draw_geometries([hull_pcd, cad_pcd])"
   ]
  },
  {
   "cell_type": "code",
   "execution_count": 8,
   "metadata": {},
   "outputs": [],
   "source": [
    "front =  [0.0, 0.0, 1.0]\n",
    "lookat = [-105.36407274754953, -106.22557127184305, 2.0]\n",
    "up =  [0.0, 1.0, 0.0]\n",
    "zoom = 0.69999999999999996\n",
    "\n",
    "def draw_registration_result(source, target, transformation):\n",
    "    source_temp = copy.deepcopy(source)\n",
    "    target_temp = copy.deepcopy(target)\n",
    "    source_temp.transform(transformation)\n",
    "    o3d.visualization.draw_geometries([target_temp, source_temp],\n",
    "                                      zoom=zoom,\n",
    "                                      front=front,\n",
    "                                      lookat=lookat,\n",
    "                                      up=up)\n",
    "    \n",
    "source = copy.deepcopy(hull_pcd)\n",
    "target = copy.deepcopy(cad_pcd)"
   ]
  },
  {
   "cell_type": "code",
   "execution_count": 9,
   "metadata": {},
   "outputs": [
    {
     "name": "stderr",
     "output_type": "stream",
     "text": [
      "100%|██████████| 43/43 [00:11<00:00,  3.66it/s]"
     ]
    },
    {
     "name": "stdout",
     "output_type": "stream",
     "text": [
      "Best threshold for total alignment was 1.3\n"
     ]
    },
    {
     "name": "stderr",
     "output_type": "stream",
     "text": [
      "\n"
     ]
    }
   ],
   "source": [
    "# Total points alignment: Align point clouds through ICP based on the lowest RMSE (use all points)\n",
    "\n",
    "def evaluate_icp(source, target, threshold, trans_init, verbose=False):\n",
    "    # Perform ICP registration\n",
    "    reg_p2p = o3d.pipelines.registration.registration_icp(\n",
    "        source, target, threshold, trans_init,\n",
    "        o3d.pipelines.registration.TransformationEstimationPointToPoint())\n",
    "    \n",
    "    # Evaluate the registration\n",
    "    evaluation = o3d.pipelines.registration.evaluate_registration(\n",
    "        source, target, threshold, reg_p2p.transformation)\n",
    "    \n",
    "    if verbose:\n",
    "        print(f\"Threshold: {threshold}\")\n",
    "        print(f\"Fitness: {reg_p2p.fitness}\")\n",
    "        print(f\"Inlier RMSE: {reg_p2p.inlier_rmse}\")\n",
    "        print(f\"Evaluation Fitness: {evaluation.fitness}\")\n",
    "        print(f\"Evaluation Inlier RMSE: {evaluation.inlier_rmse}\")\n",
    "        print(\"Transformation Matrix:\")\n",
    "        print(reg_p2p.transformation)\n",
    "        print(\"-\" * 40)\n",
    "    \n",
    "    return reg_p2p, evaluation.inlier_rmse, threshold\n",
    "\n",
    "# Initial transformation (identity matrix)\n",
    "trans_init = np.eye(4)\n",
    "\n",
    "# Evaluate ICP for different thresholds\n",
    "thresholds = [0.5, 0.54, 0.55, 0.56, 0.57, 0.58, 0.59, 0.6, 0.61, 0.62, 0.63, 0.64, 0.65, 0.67, 0.69, 0.7, 0.71, 0.72, 0.73, 0.8, 0.85, 0.9, 0.95, 1, 1.1, 1.2, 1.25, 1.3, 1,325, 1.33, 1.34, 1.35, 1.36, 1.37, 1.375, 1.4, 1.425, 1.45, 1.475, 1.5, 2, 3]\n",
    "results = [evaluate_icp(source, target, threshold, trans_init, verbose=False) for threshold in tqdm(thresholds)]\n",
    "best_result = min(results, key=lambda x: x[1])\n",
    "\n",
    "print(f'Best threshold for total alignment was {best_result[2]}')\n",
    "\n",
    "# Visual inspection for the best threshold \n",
    "draw_registration_result(source, target, best_result[0].transformation)"
   ]
  },
  {
   "cell_type": "code",
   "execution_count": 10,
   "metadata": {},
   "outputs": [
    {
     "data": {
      "text/plain": [
       "PointCloud with 25479 points."
      ]
     },
     "execution_count": 10,
     "metadata": {},
     "output_type": "execute_result"
    }
   ],
   "source": [
    "# Create the transformed hull_dictionary\n",
    "\n",
    "transformation_matrix = best_result[0].transformation\n",
    "def transform_points(points, transformation_matrix):\n",
    "    # Convert points to homogeneous coordinates\n",
    "    ones_column = np.ones((points.shape[0], 1))\n",
    "    points_homogeneous = np.hstack((points, ones_column))\n",
    "    # Apply the transformation matrix\n",
    "    transformed_points_homogeneous = points_homogeneous.dot(transformation_matrix.T)\n",
    "    # Convert back to Cartesian coordinates\n",
    "    return transformed_points_homogeneous[:, :3]\n",
    "\n",
    "transformed_hull_points_dictionary = {}\n",
    "\n",
    "for label, points in hull_points_dictionary.items():\n",
    "    points = points + translation\n",
    "    transformed_points = transform_points(np.array(points), transformation_matrix)\n",
    "    transformed_hull_points_dictionary[label] = transformed_points\n",
    "\n",
    "transformed_hull_pcd = o3d.geometry.PointCloud()\n",
    "\n",
    "hull_points_indices = {}\n",
    "index = 0\n",
    "\n",
    "for labels, points in transformed_hull_points_dictionary.items():\n",
    "    transformed_hull_pcd.points.extend(o3d.utility.Vector3dVector(points))\n",
    "\n",
    "transformed_hull_pcd.paint_uniform_color([0.1, 1, 0.1])\n",
    "\n",
    "#o3d.visualization.draw_geometries([cad_pcd, transformed_hull_pcd],zoom=zoom,front=front,lookat=lookat,up=up)"
   ]
  },
  {
   "cell_type": "code",
   "execution_count": 11,
   "metadata": {},
   "outputs": [
    {
     "name": "stderr",
     "output_type": "stream",
     "text": [
      "  0%|          | 0/77 [00:00<?, ?it/s]"
     ]
    },
    {
     "name": "stderr",
     "output_type": "stream",
     "text": [
      "100%|██████████| 77/77 [00:01<00:00, 55.39it/s]"
     ]
    },
    {
     "name": "stdout",
     "output_type": "stream",
     "text": [
      "[(1, 40), (5, 76), (7, 75), (8, 74), (10, 37), (11, 73), (12, 58), (13, 6), (14, 5), (15, 4), (16, 3), (17, 39), (18, 72), (19, 71), (20, 71), (21, 36), (22, 30), (23, 2), (24, 24), (25, 18), (26, 12), (27, 61), (28, 70), (29, 77), (30, 38), (31, 69), (32, 35), (33, 29), (34, 23), (35, 17), (36, 11), (37, 68), (38, 68), (40, 1), (41, 34), (43, 67), (44, 67), (45, 67), (47, 28), (48, 22), (49, 16), (50, 10), (51, 66), (52, 66), (54, 66), (57, 66), (62, 27), (63, 33), (64, 21), (65, 65), (66, 15), (67, 65), (69, 9), (70, 65), (72, 65), (73, 78), (74, 0), (75, 64), (76, 32), (77, 26), (78, 20), (79, 14), (80, 8), (81, 63), (82, 62), (83, 62), (84, 62), (85, 31), (86, 25), (87, 19), (88, 13), (89, 7), (90, 60), (91, 57), (92, 56), (95, 59), (96, 59)]\n"
     ]
    },
    {
     "name": "stderr",
     "output_type": "stream",
     "text": [
      "\n"
     ]
    }
   ],
   "source": [
    "# Match shapes through nearest neighbor voting\n",
    "\n",
    "cad_points = np.asarray(cad_pcd.points)\n",
    "cad_kdtree = cKDTree(cad_points)\n",
    "\n",
    "matching_labels = []\n",
    "for label, points in tqdm(transformed_hull_points_dictionary.items()):\n",
    "    cad_clusters_votes_dictionary = {}\n",
    "    for point in points:\n",
    "        _, index = cad_kdtree.query(point)\n",
    "        cluster_label = cad_shapes_labels[index]\n",
    "        if cluster_label in cad_clusters_votes_dictionary:\n",
    "            cad_clusters_votes_dictionary[cluster_label] += 1\n",
    "        else:\n",
    "            cad_clusters_votes_dictionary[cluster_label] = 1\n",
    "    chosen_cad_cluster_label = max(cad_clusters_votes_dictionary, key=cad_clusters_votes_dictionary.get)\n",
    "    matching_labels.append((label,chosen_cad_cluster_label))\n",
    "\n",
    "print(matching_labels)"
   ]
  },
  {
   "cell_type": "code",
   "execution_count": 12,
   "metadata": {},
   "outputs": [],
   "source": [
    "# Visualize the matching shapes\n",
    "\n",
    "colormap = plt.get_cmap('tab20')\n",
    "colors = [colormap(i % 20) for i in range(len(matching_labels))]\n",
    "\n",
    "# Create a new point cloud for visualization\n",
    "hull_pcd_colored = o3d.geometry.PointCloud()\n",
    "cad_pcd_colored = o3d.geometry.PointCloud()\n",
    "\n",
    "# Assign colors to the points based on the matching labels\n",
    "for i, (hull_label, cad_label) in enumerate(matching_labels):\n",
    "    hull_color = colors[i][:3]\n",
    "    cad_color = colors[i][:3]\n",
    "\n",
    "    hull_points = transformed_hull_points_dictionary[hull_label]\n",
    "    cad_points = cad_points_dictionary[cad_label]\n",
    "\n",
    "    hull_pcd_colored.points.extend(o3d.utility.Vector3dVector(hull_points))\n",
    "    cad_pcd_colored.points.extend(o3d.utility.Vector3dVector(cad_points))\n",
    "\n",
    "    hull_pcd_colored.colors.extend(o3d.utility.Vector3dVector([hull_color] * len(hull_points)))\n",
    "    cad_pcd_colored.colors.extend(o3d.utility.Vector3dVector([cad_color] * len(cad_points)))\n",
    "\n",
    "# Visualize the colored point clouds\n",
    "o3d.visualization.draw_geometries([hull_pcd_colored, cad_pcd_colored])"
   ]
  },
  {
   "cell_type": "code",
   "execution_count": 13,
   "metadata": {},
   "outputs": [
    {
     "name": "stdout",
     "output_type": "stream",
     "text": [
      "{1: 0.18617735341308908, 5: 0.09943457335323383, 7: 0.17914439470521715, 8: 0.10703557041327327, 10: 0.17453630658317323, 11: 0.13964132894002432, 12: 0.09960543538430583, 13: 0.13320486190563074, 14: 0.17483577207930773, 15: 0.185621446996224, 16: 0.19733828136433712, 17: 0.14754716605764967, 18: 0.06975572276680941, 19: 0.12191062166337396, 20: 0.07007644634074425, 21: 0.09258775537766514, 22: 0.21197254062410384, 23: 0.1053020243935616, 24: 0.15320531327357773, 25: 0.1296316566369107, 26: 0.15459849044911203, 27: 0.08158260554176092, 28: 0.21494044455969286, 29: 0.24817251534517956, 30: 0.10364083061273657, 31: 0.12217452273902503, 32: 0.09867081252140812, 33: 0.09849053822058994, 34: 0.09354790118993983, 35: 0.09537442960130953, 36: 0.11498188654208776, 37: 0.2596982752528825, 38: 0.13950184600431784, 40: 0.09548146276862665, 41: 0.12057028265317636, 43: 0.1243567873269311, 44: 0.1454691787618536, 45: 0.13698835571022208, 47: 0.23540108124352055, 48: 0.0787261659172895, 49: 0.08339880070310439, 50: 0.09601643549024516, 51: 0.07886149371683264, 52: 0.15851693662453586, 54: 0.13722560922795254, 57: 0.12455311431155419, 62: 1.0488806009017952, 63: 0.13019821664424225, 64: 0.06932942125396313, 65: 0.1947937916486217, 66: 0.0752979997236417, 67: 0.10243968583181004, 69: 0.08495041581885135, 70: 0.11443009398554926, 72: 0.11729278655168882, 73: 1.6842505792005906, 74: 0.2642943654700646, 75: 0.2839416123599948, 76: 0.13480515733607518, 77: 0.16078075401030176, 78: 0.07526612743820663, 79: 0.07615572244008977, 80: 0.08110141113693695, 81: 0.18136705456326982, 82: 0.17199980297886674, 83: 0.2002659327593721, 84: 0.14500521260713045, 85: 0.18732861998724903, 86: 0.1981245381284625, 87: 0.10442278199180867, 88: 0.11690204312437703, 89: 0.09442924953893948, 90: 0.21025261877133966, 91: 0.12689218611942274, 92: 0.15916136877134668, 95: 14.723540959350844, 96: 0.30276370476260095}\n"
     ]
    }
   ],
   "source": [
    "# Calculate distances/errors for each pair\n",
    "\n",
    "distance_dictionary = {}\n",
    "\n",
    "for hull_label, cad_label in matching_labels:\n",
    "    hull_cluster_points = transformed_hull_points_dictionary[hull_label]\n",
    "    cad_cluster_points = cad_points_dictionary[cad_label]\n",
    "    cad_cluster_kdtree = cKDTree(cad_cluster_points)\n",
    "    distances, _ = cad_cluster_kdtree.query(hull_cluster_points)\n",
    "    average_distance = np.mean(distances)\n",
    "    distance_dictionary[hull_label] = average_distance\n",
    "\n",
    "print(distance_dictionary)"
   ]
  },
  {
   "cell_type": "code",
   "execution_count": 14,
   "metadata": {},
   "outputs": [
    {
     "name": "stdout",
     "output_type": "stream",
     "text": [
      "[(0.0, 0.5019607843137255, 0.0), (0.2222222222222222, 0.612636165577342, 0.0), (0.4444444444444444, 0.7233115468409586, 0.0), (0.6666666666666666, 0.8339869281045751, 0.0), (0.8888888888888888, 0.9446623093681916, 0.0), (1.0, 0.8888888888888888, 0.0), (1.0, 0.6666666666666667, 0.0), (1.0, 0.44444444444444464, 0.0), (1.0, 0.2222222222222222, 0.0), (1.0, 0.0, 0.0)]\n"
     ]
    },
    {
     "data": {
      "text/plain": [
       "PointCloud with 81774 points."
      ]
     },
     "execution_count": 14,
     "metadata": {},
     "output_type": "execute_result"
    }
   ],
   "source": [
    "# Color the errors\n",
    "\n",
    "colors = [\"green\", \"yellow\", \"red\"]\n",
    "n_bins = 10\n",
    "cmap = LinearSegmentedColormap.from_list(\"custom_green_yellow_red\", colors, N=n_bins)\n",
    "error_color_list = [cmap(i/n_bins)[:3] for i in range(n_bins)]\n",
    "\n",
    "print(error_color_list)\n",
    "\n",
    "error_values = [error for _, error in distance_dictionary.items()]\n",
    "min_error, max_error = min(error_values), max(error_values)\n",
    "step = (max_error - min_error) / n_bins if error_values else 0\n",
    "\n",
    "transformed_hull_pcd_points = np.asarray(transformed_hull_pcd.points)\n",
    "transformed_hull_pcd_colors = np.zeros_like(transformed_hull_pcd_points)\n",
    "\n",
    "for label, hull_cluster_points in transformed_hull_points_dictionary.items():\n",
    "    error = distance_dictionary[label]\n",
    "    percentile = int((error - min_error) // step)\n",
    "    percentile = min(percentile, n_bins - 1)\n",
    "    color = error_color_list[percentile]\n",
    "\n",
    "    for point in hull_cluster_points:\n",
    "        index = np.where((transformed_hull_pcd_points == point).all(axis=1))[0]\n",
    "        transformed_hull_pcd_colors[index] = color\n",
    "\n",
    "transformed_hull_pcd.colors = o3d.utility.Vector3dVector(transformed_hull_pcd_colors)\n",
    "cad_pcd.paint_uniform_color([0.6,0.6,0.6])"
   ]
  },
  {
   "cell_type": "code",
   "execution_count": 15,
   "metadata": {},
   "outputs": [],
   "source": [
    "# Draw final output\n",
    "\n",
    "o3d.visualization.draw_geometries([cad_pcd, transformed_hull_pcd])"
   ]
  },
  {
   "cell_type": "code",
   "execution_count": 17,
   "metadata": {},
   "outputs": [],
   "source": [
    "# Calculate local errors\n",
    "\n",
    "cad_points = np.asarray(cad_pcd.points)\n",
    "cad_kdtree = cKDTree(cad_points)\n",
    "\n",
    "local_errors = []\n",
    "\n",
    "for point in transformed_hull_pcd.points:\n",
    "    distance, _ = cad_kdtree.query(point)\n",
    "    local_errors.append(distance)\n",
    "\n",
    "local_errors = np.array(local_errors)\n",
    "\n",
    "# Create colormap for visualization\n",
    "colors = [\"green\", \"yellow\", \"red\"]\n",
    "n_bins = 10\n",
    "cmap = LinearSegmentedColormap.from_list(\"custom_green_yellow_red\", colors, N=n_bins)\n",
    "\n",
    "# Normalize the errors to the range [0, 1]\n",
    "min_error, max_error = local_errors.min(), local_errors.max()\n",
    "norm_errors = (local_errors - min_error) / (max_error - min_error)\n",
    "\n",
    "# Map normalized errors to colors\n",
    "mapped_colors = cmap(norm_errors)\n",
    "\n",
    "# Assign colors to the point cloud\n",
    "transformed_hull_pcd.colors = o3d.utility.Vector3dVector(mapped_colors[:, :3])\n",
    "\n",
    "# Visualize the point clouds\n",
    "cad_pcd.paint_uniform_color([0.3, 0.3, 0.3])\n",
    "o3d.visualization.draw_geometries([cad_pcd, transformed_hull_pcd])"
   ]
  }
 ],
 "metadata": {
  "kernelspec": {
   "display_name": "pointclouds",
   "language": "python",
   "name": "python3"
  },
  "language_info": {
   "codemirror_mode": {
    "name": "ipython",
    "version": 3
   },
   "file_extension": ".py",
   "mimetype": "text/x-python",
   "name": "python",
   "nbconvert_exporter": "python",
   "pygments_lexer": "ipython3",
   "version": "3.11.8"
  }
 },
 "nbformat": 4,
 "nbformat_minor": 2
}
