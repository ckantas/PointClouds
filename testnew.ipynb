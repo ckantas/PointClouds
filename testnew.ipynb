{
 "cells": [
  {
   "cell_type": "code",
   "execution_count": null,
   "metadata": {},
   "outputs": [],
   "source": [
    "import multiprocessing\n",
    "import os\n",
    "import time\n",
    "import numpy as np\n",
    "from scipy.spatial import cKDTree\n",
    "import open3d as o3d\n",
    "import util\n",
    "from tqdm import tqdm\n",
    "import matplotlib.pyplot as plt\n",
    "from matplotlib import cm\n",
    "import random\n",
    "import pickle"
   ]
  },
  {
   "cell_type": "code",
   "execution_count": null,
   "metadata": {},
   "outputs": [],
   "source": [
    "# Load saved data\n",
    "with open(\"debug_inputs.pkl\", \"rb\") as f:\n",
    "    data = pickle.load(f)\n",
    "\n",
    "anchor_points = data[\"anchor_points\"]\n",
    "core_indices = data[\"core_indices\"]\n",
    "pointwise_variance = data[\"pointwise_variance\"]\n",
    "pcd_points = data[\"points\"]\n",
    "\n",
    "# Run the function in isolation\n",
    "clusters = util.growRegionsAroundIntersections(anchor_points, core_indices, pointwise_variance, pcd_points)\n",
    "\n",
    "print(f\"Generated {len(clusters)} clusters\")"
   ]
  }
 ],
 "metadata": {
  "language_info": {
   "name": "python"
  }
 },
 "nbformat": 4,
 "nbformat_minor": 2
}
