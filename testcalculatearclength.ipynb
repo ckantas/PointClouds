{
 "cells": [
  {
   "cell_type": "code",
   "execution_count": 1,
   "metadata": {},
   "outputs": [
    {
     "name": "stdout",
     "output_type": "stream",
     "text": [
      "Jupyter environment detected. Enabling Open3D WebVisualizer.\n",
      "[Open3D INFO] WebRTC GUI backend enabled.\n",
      "[Open3D INFO] WebRTCWindowSystem: HTTP handshake server disabled.\n"
     ]
    }
   ],
   "source": [
    "import multiprocessing\n",
    "import os\n",
    "import time\n",
    "import numpy as np\n",
    "from scipy.spatial import cKDTree\n",
    "import open3d as o3d\n",
    "import util\n",
    "from tqdm import tqdm\n",
    "import matplotlib.pyplot as plt\n",
    "from matplotlib import cm\n",
    "import random\n",
    "from BendLength import BendLengthCalculator"
   ]
  },
  {
   "cell_type": "code",
   "execution_count": 2,
   "metadata": {},
   "outputs": [],
   "source": [
    "sample_dist = 0.3\n",
    "aggregation_range = 15\n",
    "eigen_threshold = 0.05\n",
    "angle_threshold = 0.12\n",
    "radius = 1.5"
   ]
  },
  {
   "cell_type": "code",
   "execution_count": 3,
   "metadata": {},
   "outputs": [],
   "source": [
    "point_cloud_location = \"/home/chris/Code/PointClouds/data/ply/CircularVentilationGrateExtraCleanedFull.ply\"\n",
    "pcd = o3d.io.read_point_cloud(point_cloud_location)"
   ]
  },
  {
   "cell_type": "code",
   "execution_count": 4,
   "metadata": {},
   "outputs": [
    {
     "ename": "KeyboardInterrupt",
     "evalue": "",
     "output_type": "error",
     "traceback": [
      "\u001b[0;31m---------------------------------------------------------------------------\u001b[0m",
      "\u001b[0;31mKeyboardInterrupt\u001b[0m                         Traceback (most recent call last)",
      "Cell \u001b[0;32mIn[4], line 6\u001b[0m\n\u001b[1;32m      3\u001b[0m pcd_points \u001b[38;5;241m=\u001b[39m np\u001b[38;5;241m.\u001b[39masarray(pcd\u001b[38;5;241m.\u001b[39mpoints)\n\u001b[1;32m      5\u001b[0m \u001b[38;5;66;03m# Detect planes, intersections, and anchor points\u001b[39;00m\n\u001b[0;32m----> 6\u001b[0m segment_models, segments, segment_indices, main_surface_idx \u001b[38;5;241m=\u001b[39m \u001b[43mutil\u001b[49m\u001b[38;5;241;43m.\u001b[39;49m\u001b[43mmultiOrderRansac\u001b[49m\u001b[43m(\u001b[49m\u001b[43mpcd\u001b[49m\u001b[43m,\u001b[49m\u001b[43m \u001b[49m\u001b[43mpt_to_plane_dist\u001b[49m\u001b[38;5;241;43m=\u001b[39;49m\u001b[38;5;241;43m0.4\u001b[39;49m\u001b[43m)\u001b[49m\n\u001b[1;32m      7\u001b[0m angles_rad \u001b[38;5;241m=\u001b[39m util\u001b[38;5;241m.\u001b[39mfindAnglesBetweenPlanes(segment_models, main_surface_idx)\n\u001b[1;32m      8\u001b[0m intersection_lines \u001b[38;5;241m=\u001b[39m util\u001b[38;5;241m.\u001b[39mfindIntersectionLines(segment_models, main_surface_idx)\n",
      "File \u001b[0;32m~/Code/PointClouds/util.py:44\u001b[0m, in \u001b[0;36mmultiOrderRansac\u001b[0;34m(pcd, pt_to_plane_dist, visualize, verbose)\u001b[0m\n\u001b[1;32m     42\u001b[0m     \u001b[38;5;28;01mif\u001b[39;00m verbose:\n\u001b[1;32m     43\u001b[0m         \u001b[38;5;28mprint\u001b[39m(\u001b[38;5;124m'\u001b[39m\u001b[38;5;124mUsing planar patches to detect number of planes\u001b[39m\u001b[38;5;124m'\u001b[39m)\n\u001b[0;32m---> 44\u001b[0m     oboxes \u001b[38;5;241m=\u001b[39m \u001b[43mpcd\u001b[49m\u001b[38;5;241;43m.\u001b[39;49m\u001b[43mdetect_planar_patches\u001b[49m\u001b[43m(\u001b[49m\n\u001b[1;32m     45\u001b[0m \u001b[43m    \u001b[49m\u001b[43mnormal_variance_threshold_deg\u001b[49m\u001b[38;5;241;43m=\u001b[39;49m\u001b[38;5;241;43m20\u001b[39;49m\u001b[43m,\u001b[49m\n\u001b[1;32m     46\u001b[0m \u001b[43m    \u001b[49m\u001b[43mcoplanarity_deg\u001b[49m\u001b[38;5;241;43m=\u001b[39;49m\u001b[38;5;241;43m75\u001b[39;49m\u001b[43m,\u001b[49m\n\u001b[1;32m     47\u001b[0m \u001b[43m    \u001b[49m\u001b[43moutlier_ratio\u001b[49m\u001b[38;5;241;43m=\u001b[39;49m\u001b[38;5;241;43m0.2\u001b[39;49m\u001b[43m,\u001b[49m\n\u001b[1;32m     48\u001b[0m \u001b[43m    \u001b[49m\u001b[43mmin_plane_edge_length\u001b[49m\u001b[38;5;241;43m=\u001b[39;49m\u001b[38;5;241;43m0\u001b[39;49m\u001b[43m,\u001b[49m\n\u001b[1;32m     49\u001b[0m \u001b[43m    \u001b[49m\u001b[43mmin_num_points\u001b[49m\u001b[38;5;241;43m=\u001b[39;49m\u001b[38;5;241;43m0\u001b[39;49m\u001b[43m,\u001b[49m\n\u001b[1;32m     50\u001b[0m \u001b[43m    \u001b[49m\u001b[43msearch_param\u001b[49m\u001b[38;5;241;43m=\u001b[39;49m\u001b[43mo3d\u001b[49m\u001b[38;5;241;43m.\u001b[39;49m\u001b[43mgeometry\u001b[49m\u001b[38;5;241;43m.\u001b[39;49m\u001b[43mKDTreeSearchParamKNN\u001b[49m\u001b[43m(\u001b[49m\u001b[43mknn\u001b[49m\u001b[38;5;241;43m=\u001b[39;49m\u001b[38;5;241;43m30\u001b[39;49m\u001b[43m)\u001b[49m\n\u001b[1;32m     51\u001b[0m \u001b[43m)\u001b[49m\n\u001b[1;32m     53\u001b[0m     max_plane_idx \u001b[38;5;241m=\u001b[39m \u001b[38;5;28mlen\u001b[39m(oboxes)  \u001b[38;5;66;03m# Use this as max_plane_idx\u001b[39;00m\n\u001b[1;32m     54\u001b[0m     \u001b[38;5;28;01mif\u001b[39;00m verbose:\n",
      "\u001b[0;31mKeyboardInterrupt\u001b[0m: "
     ]
    }
   ],
   "source": [
    "# Preprocess the point cloud\n",
    "pcd = util.preProcessCloud(pcd)\n",
    "pcd_points = np.asarray(pcd.points)\n",
    "\n",
    "# Detect planes, intersections, and anchor points\n",
    "segment_models, segments, segment_indices, main_surface_idx = util.multiOrderRansac(pcd, pt_to_plane_dist=0.4)\n",
    "angles_rad = util.findAnglesBetweenPlanes(segment_models, main_surface_idx)\n",
    "intersection_lines = util.findIntersectionLines(segment_models, main_surface_idx)\n",
    "anchor_points = util.findAnchorPoints(segment_models, segments, intersection_lines, main_surface_idx)\n",
    "\n",
    "bend_length_calculator = BendLengthCalculator(pcd, anchor_points, intersection_lines, eigen_threshold, angle_threshold, aggregation_range, sample_dist, radius)\n",
    "bend_edges = bend_length_calculator.compute_bend_lengths()"
   ]
  },
  {
   "cell_type": "code",
   "execution_count": null,
   "metadata": {},
   "outputs": [],
   "source": [
    "all_normals, pointwise_variance = util.calculatePointwiseNormalVariance(pcd, radius=1.5)\n",
    "core_indices = util.getCorePoints(pointwise_variance)\n",
    "clusters = util.growRegionsAroundIntersections(anchor_points, core_indices, pointwise_variance, pcd_points, bend_edges, variance_percentile=95)"
   ]
  },
  {
   "cell_type": "code",
   "execution_count": null,
   "metadata": {},
   "outputs": [],
   "source": [
    "cluster_derivatives = {}\n",
    "for cluster_id, cluster in clusters.items():\n",
    "    cluster_indices = np.array([idx for idx in cluster])\n",
    "    points = pcd_points[cluster_indices]\n",
    "    normals = all_normals[cluster_indices]\n",
    "    cluster_derivatives[cluster_id] = util.calculate_normal_derivatives(normals, points, radius=2, verbose=False)"
   ]
  },
  {
   "cell_type": "code",
   "execution_count": null,
   "metadata": {},
   "outputs": [],
   "source": [
    "class ArcLengthCalculator:\n",
    "    def __init__(self, pcd, intersection_line, bend_edges, bend_cluster_points, cluster_derivatives, step_size=0.5):\n",
    "        self.pcd = pcd\n",
    "        self.points = np.asarray(pcd.points)\n",
    "        self.intersection_line = intersection_line\n",
    "        self.bend_cluster_points = bend_cluster_points\n",
    "        self.bend_cluster_derivatives = cluster_derivatives\n",
    "        self.bend_cluster_kdtree = cKDTree(self.bend_cluster_points)\n",
    "        self.pcd_kdtree = cKDTree(self.points)\n",
    "        self.start_point, self.end_point = map(np.array, bend_edges)\n",
    "        self.step_size = step_size\n",
    "        self.it = 0\n",
    "\n",
    "        self.pcd.paint_uniform_color([0.6, 0.6, 0.6])\n",
    "        self.vis = o3d.visualization.VisualizerWithKeyCallback()\n",
    "        self.vis.create_window(\"ArcLengthCalculator\")\n",
    "        self.vis.add_geometry(self.pcd)\n",
    "\n",
    "        self.vis.register_key_callback(262, self.sample_point)\n",
    "        self.sample_point(self.vis)\n",
    "\n",
    "    def sample_point(self, vis):\n",
    "        if hasattr(self, 'line_set'):\n",
    "            self.vis.remove_geometry(self.line_set)\n",
    "\n",
    "        sampled_point = self.start_point + (self.it*self.step_size)*self.intersection_line[0]/np.linalg.norm(self.intersection_line[0])\n",
    "        if np.linalg.norm(sampled_point - self.start_point) > np.linalg.norm(self.end_point - self.start_point):\n",
    "            return\n",
    "        \n",
    "        idx = self.bend_cluster_kdtree.query(sampled_point)[1]\n",
    "        base = self.bend_cluster_points[idx]\n",
    "        neighbor_indices = self.bend_cluster_kdtree.query_ball_point(base, radius)\n",
    "        average_direction = np.mean(self.bend_cluster_derivatives[neighbor_indices], axis=0)\n",
    "        average_direction /= np.linalg.norm(average_direction)\n",
    "        end = base + average_direction * 2\n",
    "\n",
    "        self.line_set = self.create_arrow_line(base, end, color=[1, 0, 0])\n",
    "\n",
    "        self.vis.add_geometry(self.line_set)\n",
    "        self.it += 1\n",
    "\n",
    "    # def next_neighborhood(self, vis):\n",
    "    #     \"\"\" Move to the next neighborhood when right arrow key is pressed. \"\"\"\n",
    "    #     self.current_index = (self.current_index + 500) % len(self.pcd.points)\n",
    "    #     self._update_neighborhood()\n",
    "\n",
    "    def create_arrow_line(self, start, end, color):\n",
    "        line_set = o3d.geometry.LineSet()\n",
    "        line_set.points = o3d.utility.Vector3dVector([start, end])\n",
    "        line_set.lines = o3d.utility.Vector2iVector([[0, 1]])\n",
    "        line_set.colors = o3d.utility.Vector3dVector([color])\n",
    "        return line_set\n",
    "\n",
    "    def run(self):\n",
    "        self.vis.run()\n",
    "        self.vis.destroy_window()"
   ]
  },
  {
   "cell_type": "code",
   "execution_count": null,
   "metadata": {},
   "outputs": [
    {
     "name": "stdout",
     "output_type": "stream",
     "text": [
      "length of cluster points: 10422\n",
      "length of derivatives: 10422\n"
     ]
    }
   ],
   "source": [
    "bend_cluster_indices = np.array([idx for idx in clusters[1]])\n",
    "bend_cluster_points = pcd_points[cluster_indices]\n",
    "\n",
    "print(f'length of cluster points: {len(bend_cluster_points)}')\n",
    "print(f'length of derivatives: {len(cluster_derivatives[1])}')"
   ]
  },
  {
   "cell_type": "code",
   "execution_count": null,
   "metadata": {},
   "outputs": [
    {
     "name": "stdout",
     "output_type": "stream",
     "text": [
      "[Open3D INFO]   -- Mouse view control --\n",
      "[Open3D INFO]     Left button + drag         : Rotate.\n",
      "[Open3D INFO]     Ctrl + left button + drag  : Translate.\n",
      "[Open3D INFO]     Wheel button + drag        : Translate.\n",
      "[Open3D INFO]     Shift + left button + drag : Roll.\n",
      "[Open3D INFO]     Wheel                      : Zoom in/out.\n",
      "[Open3D INFO] \n",
      "[Open3D INFO]   -- Keyboard view control --\n",
      "[Open3D INFO]     [/]          : Increase/decrease field of view.\n",
      "[Open3D INFO]     R            : Reset view point.\n",
      "[Open3D INFO]     Ctrl/Cmd + C : Copy current view status into the clipboard.\n",
      "[Open3D INFO]     Ctrl/Cmd + V : Paste view status from clipboard.\n",
      "[Open3D INFO] \n",
      "[Open3D INFO]   -- General control --\n",
      "[Open3D INFO]     Q, Esc       : Exit window.\n",
      "[Open3D INFO]     H            : Print help message.\n",
      "[Open3D INFO]     P, PrtScn    : Take a screen capture.\n",
      "[Open3D INFO]     D            : Take a depth capture.\n",
      "[Open3D INFO]     O            : Take a capture of current rendering settings.\n",
      "[Open3D INFO]     Alt + Enter  : Toggle between full screen and windowed mode.\n",
      "[Open3D INFO] \n",
      "[Open3D INFO]   -- Render mode control --\n",
      "[Open3D INFO]     L            : Turn on/off lighting.\n",
      "[Open3D INFO]     +/-          : Increase/decrease point size.\n",
      "[Open3D INFO]     Ctrl + +/-   : Increase/decrease width of geometry::LineSet.\n",
      "[Open3D INFO]     N            : Turn on/off point cloud normal rendering.\n",
      "[Open3D INFO]     S            : Toggle between mesh flat shading and smooth shading.\n",
      "[Open3D INFO]     W            : Turn on/off mesh wireframe.\n",
      "[Open3D INFO]     B            : Turn on/off back face rendering.\n",
      "[Open3D INFO]     I            : Turn on/off image zoom in interpolation.\n",
      "[Open3D INFO]     T            : Toggle among image render:\n",
      "[Open3D INFO]                    no stretch / keep ratio / freely stretch.\n",
      "[Open3D INFO] \n",
      "[Open3D INFO]   -- Color control --\n",
      "[Open3D INFO]     0..4,9       : Set point cloud color option.\n",
      "[Open3D INFO]                    0 - Default behavior, render point color.\n",
      "[Open3D INFO]                    1 - Render point color.\n",
      "[Open3D INFO]                    2 - x coordinate as color.\n",
      "[Open3D INFO]                    3 - y coordinate as color.\n",
      "[Open3D INFO]                    4 - z coordinate as color.\n",
      "[Open3D INFO]                    9 - normal as color.\n",
      "[Open3D INFO]     Ctrl + 0..4,9: Set mesh color option.\n",
      "[Open3D INFO]                    0 - Default behavior, render uniform gray color.\n",
      "[Open3D INFO]                    1 - Render point color.\n",
      "[Open3D INFO]                    2 - x coordinate as color.\n",
      "[Open3D INFO]                    3 - y coordinate as color.\n",
      "[Open3D INFO]                    4 - z coordinate as color.\n",
      "[Open3D INFO]                    9 - normal as color.\n",
      "[Open3D INFO]     Shift + 0..4 : Color map options.\n",
      "[Open3D INFO]                    0 - Gray scale color.\n",
      "[Open3D INFO]                    1 - JET color map.\n",
      "[Open3D INFO]                    2 - SUMMER color map.\n",
      "[Open3D INFO]                    3 - WINTER color map.\n",
      "[Open3D INFO]                    4 - HOT color map.\n",
      "[Open3D INFO] \n",
      "[Open3D INFO]   -- Keys registered for callback functions --\n",
      "[Open3D INFO]     \n",
      "[Open3D INFO] [Right arrow] \n",
      "[Open3D INFO] \n",
      "[Open3D INFO]     The default functions of these keys will be overridden.\n",
      "[Open3D INFO] \n",
      "[Open3D INFO]     Custom mouse callbacks registered for: \n",
      "[Open3D INFO] \n"
     ]
    }
   ],
   "source": [
    "visualizer = ArcLengthCalculator(pcd, intersection_lines[1], bend_edges[1], bend_cluster_points, cluster_derivatives[1])\n",
    "visualizer.run()"
   ]
  },
  {
   "cell_type": "code",
   "execution_count": null,
   "metadata": {},
   "outputs": [],
   "source": [
    "import pickle\n",
    "\n",
    "with open(\"bend_visualization_data.pkl\", \"wb\") as f:\n",
    "    pickle.dump({\n",
    "        \"intersection_line\": intersection_lines[1],\n",
    "        \"bend_edges\": bend_edges[1],\n",
    "        \"cluster_points\": bend_cluster_points,\n",
    "        \"cluster_derivatives\": cluster_derivatives[1],\n",
    "        \"all_normals\": all_normals,\n",
    "        \"segment_indices\": segment_indices\n",
    "    }, f)"
   ]
  },
  {
   "cell_type": "code",
   "execution_count": null,
   "metadata": {},
   "outputs": [],
   "source": []
  }
 ],
 "metadata": {
  "kernelspec": {
   "display_name": "pointclouds",
   "language": "python",
   "name": "python3"
  },
  "language_info": {
   "codemirror_mode": {
    "name": "ipython",
    "version": 3
   },
   "file_extension": ".py",
   "mimetype": "text/x-python",
   "name": "python",
   "nbconvert_exporter": "python",
   "pygments_lexer": "ipython3",
   "version": "3.9.16"
  }
 },
 "nbformat": 4,
 "nbformat_minor": 2
}
