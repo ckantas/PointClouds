{
 "cells": [
  {
   "cell_type": "code",
   "execution_count": 1,
   "id": "42862c45",
   "metadata": {},
   "outputs": [
    {
     "name": "stdout",
     "output_type": "stream",
     "text": [
      "Jupyter environment detected. Enabling Open3D WebVisualizer.\n",
      "[Open3D INFO] WebRTC GUI backend enabled.\n",
      "[Open3D INFO] WebRTCWindowSystem: HTTP handshake server disabled.\n"
     ]
    }
   ],
   "source": [
    "import multiprocessing\n",
    "import os\n",
    "import time\n",
    "import numpy as np\n",
    "from scipy.spatial import cKDTree\n",
    "import open3d as o3d\n",
    "import util\n",
    "from tqdm import tqdm\n",
    "import matplotlib.pyplot as plt\n",
    "from matplotlib import cm\n",
    "import random\n",
    "from BendLength import BendLengthCalculator\n",
    "from preprocess import preProcessData\n",
    "import pandas as pd"
   ]
  },
  {
   "cell_type": "code",
   "execution_count": 2,
   "id": "7a0e86b9",
   "metadata": {},
   "outputs": [
    {
     "data": {
      "text/plain": [
       "TriangleMesh with 4156 points and 2104 triangles."
      ]
     },
     "execution_count": 2,
     "metadata": {},
     "output_type": "execute_result"
    }
   ],
   "source": [
    "point_cloud_location = \"/home/chris/Code/PointClouds/data/FLIPscans/Bendy/Bendy_1/scan1_Part1.ply\"\n",
    "pcd = o3d.io.read_point_cloud(point_cloud_location)\n",
    "\n",
    "mesh = o3d.io.read_triangle_mesh(\"/home/chris/Code/PointClouds/data/FLIPscans/Bendy/BendyCAD.STL\")\n",
    "mesh.compute_vertex_normals()"
   ]
  },
  {
   "cell_type": "code",
   "execution_count": null,
   "id": "1644cee6",
   "metadata": {},
   "outputs": [],
   "source": [
    "import open3d as o3d\n",
    "import numpy as np\n",
    "\n",
    "def visualize_main_plane_ransac(pcd, pt_to_plane_dist=0.5, plane_color=[0.3, 0.3, 1.0], rest_color=[0.8, 0.8, 0.8], visualize=True):\n",
    "    \"\"\"\n",
    "    Segments the dominant plane using RANSAC and shows it colored differently from the rest.\n",
    "    \n",
    "    Parameters:\n",
    "    - pcd: o3d.geometry.PointCloud, the input point cloud\n",
    "    - pt_to_plane_dist: float, RANSAC distance threshold\n",
    "    - plane_color: RGB list, color of the detected plane\n",
    "    - rest_color: RGB list, color of the rest of the point cloud\n",
    "    - visualize: bool, whether to display the result\n",
    "    \"\"\"\n",
    "    # Plane segmentation\n",
    "    plane_model, inliers = pcd.segment_plane(distance_threshold=pt_to_plane_dist, ransac_n=3, num_iterations=1000)\n",
    "\n",
    "    # Create two subsets\n",
    "    main_plane = pcd.select_by_index(inliers)\n",
    "    rest = pcd.select_by_index(inliers, invert=True)\n",
    "\n",
    "    # Color\n",
    "    main_plane.paint_uniform_color(plane_color)\n",
    "    rest.paint_uniform_color(rest_color)\n",
    "\n",
    "    if visualize:\n",
    "        o3d.visualization.draw_geometries([main_plane, rest])\n",
    "\n",
    "    return main_plane, rest, plane_model\n",
    "\n",
    "def visualize_dbscan_clusters(pcd, pt_to_plane_dist=0.4, eps=0.6, min_points=15, min_cluster_size=300):\n",
    "    # Segment the main plane\n",
    "    plane_model, inliers = pcd.segment_plane(distance_threshold=pt_to_plane_dist, ransac_n=3, num_iterations=1000)\n",
    "    remaining = pcd.select_by_index(inliers, invert=True)\n",
    "\n",
    "    # Step 1: Show remaining points in gray\n",
    "    remaining.paint_uniform_color([0.6, 0.6, 0.6])\n",
    "    o3d.visualization.draw_geometries([remaining], window_name=\"Remaining (Main Surface Removed)\")\n",
    "\n",
    "    # Step 2: Apply DBSCAN\n",
    "    labels = np.array(remaining.cluster_dbscan(eps=eps, min_points=min_points, print_progress=True))\n",
    "\n",
    "    valid_indices = []\n",
    "    valid_labels = []\n",
    "    for label in np.unique(labels):\n",
    "        if label == -1:\n",
    "            continue  # skip noise\n",
    "        label_indices = np.where(labels == label)[0]\n",
    "        if len(label_indices) >= min_cluster_size:\n",
    "            valid_indices.extend(label_indices)\n",
    "            valid_labels.extend([label] * len(label_indices))\n",
    "\n",
    "    if not valid_indices:\n",
    "        print(\"No clusters found with the required size.\")\n",
    "        return\n",
    "\n",
    "    clustered = remaining.select_by_index(valid_indices)\n",
    "    valid_labels = np.array(valid_labels)\n",
    "    max_label = valid_labels.max()\n",
    "    colors = plt.get_cmap(\"tab20\")(valid_labels / (max_label + 1))\n",
    "    clustered.colors = o3d.utility.Vector3dVector(colors[:, :3])\n",
    "\n",
    "    o3d.visualization.draw_geometries([clustered], window_name=\"DBSCAN Clusters (Filtered)\")\n"
   ]
  },
  {
   "cell_type": "code",
   "execution_count": 4,
   "id": "63b77ebc",
   "metadata": {},
   "outputs": [
    {
     "name": "stdout",
     "output_type": "stream",
     "text": [
      "Precompute neighbors.[========================================] 100%\n",
      "Clustering[=======================================>] 97%\r"
     ]
    }
   ],
   "source": [
    "# Preprocess the point cloud\n",
    "pcd, average_density, cad_pcd = preProcessData(pcd, mesh, x_rotation=90, y_rotation=20, z_rotation=0)\n",
    "pcd_points = np.asarray(pcd.points)\n",
    "pcd_tree = o3d.geometry.KDTreeFlann(pcd)\n",
    "# Detect planes, intersections, and anchor points\n",
    "visualize_dbscan_clusters(pcd, pt_to_plane_dist=0.5)\n"
   ]
  }
 ],
 "metadata": {
  "kernelspec": {
   "display_name": "pointclouds",
   "language": "python",
   "name": "python3"
  },
  "language_info": {
   "codemirror_mode": {
    "name": "ipython",
    "version": 3
   },
   "file_extension": ".py",
   "mimetype": "text/x-python",
   "name": "python",
   "nbconvert_exporter": "python",
   "pygments_lexer": "ipython3",
   "version": "3.9.16"
  }
 },
 "nbformat": 4,
 "nbformat_minor": 5
}
