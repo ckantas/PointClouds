{
 "cells": [
  {
   "cell_type": "code",
   "execution_count": 1,
   "id": "8e36e08d",
   "metadata": {},
   "outputs": [
    {
     "name": "stdout",
     "output_type": "stream",
     "text": [
      "Jupyter environment detected. Enabling Open3D WebVisualizer.\n",
      "[Open3D INFO] WebRTC GUI backend enabled.\n",
      "[Open3D INFO] WebRTCWindowSystem: HTTP handshake server disabled.\n"
     ]
    }
   ],
   "source": [
    "import multiprocessing\n",
    "import os\n",
    "import time\n",
    "import numpy as np\n",
    "from scipy.spatial import cKDTree\n",
    "import open3d as o3d\n",
    "import util\n",
    "from tqdm import tqdm\n",
    "import matplotlib.pyplot as plt\n",
    "from matplotlib import cm\n",
    "import random\n",
    "from BendLength import BendLengthCalculator\n",
    "from preprocess import preProcessData\n",
    "import pandas as pd"
   ]
  },
  {
   "cell_type": "code",
   "execution_count": 2,
   "id": "655b2a16",
   "metadata": {},
   "outputs": [
    {
     "data": {
      "text/plain": [
       "TriangleMesh with 4156 points and 2104 triangles."
      ]
     },
     "execution_count": 2,
     "metadata": {},
     "output_type": "execute_result"
    }
   ],
   "source": [
    "point_cloud_location = \"/home/chris/Code/PointClouds/data/FLIPscans/Bendy/Bendy_1/scan1_Part1.ply\"\n",
    "pcd = o3d.io.read_point_cloud(point_cloud_location)\n",
    "\n",
    "mesh = o3d.io.read_triangle_mesh(\"/home/chris/Code/PointClouds/data/FLIPscans/Bendy/BendyCAD.STL\")\n",
    "mesh.compute_vertex_normals()"
   ]
  },
  {
   "cell_type": "code",
   "execution_count": 3,
   "id": "54f002a1",
   "metadata": {},
   "outputs": [],
   "source": [
    "def create_normal_arrow_mesh(start_point, direction, length=10.0, cylinder_radius=0.2, cone_radius=0.4, color=[0.1, 0.7, 0.3]):\n",
    "    direction = direction / np.linalg.norm(direction)\n",
    "    end_point = start_point + direction * length\n",
    "\n",
    "    # Cylinder\n",
    "    cylinder = o3d.geometry.TriangleMesh.create_cylinder(radius=cylinder_radius, height=length * 0.8)\n",
    "    cylinder.paint_uniform_color(color)\n",
    "\n",
    "    z_axis = np.array([0, 0, 1])\n",
    "    rot_axis = np.cross(z_axis, direction)\n",
    "    if np.linalg.norm(rot_axis) > 1e-6:\n",
    "        rot_axis /= np.linalg.norm(rot_axis)\n",
    "        angle = np.arccos(np.clip(np.dot(z_axis, direction), -1.0, 1.0))\n",
    "        R = o3d.geometry.get_rotation_matrix_from_axis_angle(rot_axis * angle)\n",
    "        cylinder.rotate(R, center=np.zeros(3))\n",
    "\n",
    "    cylinder.translate(start_point + direction * (length * 0.4))\n",
    "\n",
    "    # Cone\n",
    "    cone_height = length * 0.2\n",
    "    cone = o3d.geometry.TriangleMesh.create_cone(radius=cone_radius, height=cone_height)\n",
    "    cone.paint_uniform_color(color)\n",
    "    cone.rotate(R, center=np.zeros(3))\n",
    "    cone.translate(end_point - direction * (cone_height * 1))\n",
    "\n",
    "    return [cylinder, cone]\n",
    "\n",
    "def draw_normal_arrows_with_geometry(segment_models, segments, main_surface_idx=None, random_flip=True):\n",
    "    arrows = []\n",
    "\n",
    "    for idx, model in segment_models.items():\n",
    "        normal = np.array(model[:3])\n",
    "        normal = normal / np.linalg.norm(normal)\n",
    "\n",
    "        if random_flip and np.random.rand() > 0.5:\n",
    "            normal *= -1  # Flip 180 degrees\n",
    "\n",
    "        center = np.array(segments[idx].get_center())\n",
    "        arrow_parts = create_normal_arrow_mesh(center, normal, length=8.0)\n",
    "        arrows.extend(arrow_parts)\n",
    "\n",
    "    o3d.visualization.draw_geometries(list(segments.values()) + arrows)"
   ]
  },
  {
   "cell_type": "code",
   "execution_count": 4,
   "id": "c8907730",
   "metadata": {},
   "outputs": [],
   "source": [
    "# Preprocess the point cloud\n",
    "pcd, average_density, cad_pcd = preProcessData(pcd, mesh, x_rotation=90, y_rotation=20, z_rotation=0)\n",
    "pcd_points = np.asarray(pcd.points)\n",
    "pcd_tree = o3d.geometry.KDTreeFlann(pcd)\n",
    "# Detect planes, intersections, and anchor points\n",
    "segment_models, segments, segment_indices, main_surface_idx = util.multiOrderRansacAdvanced(pcd, pt_to_plane_dist=0.62, verbose=False, visualize=False)\n",
    "intersection_lines = util.findIntersectionLinesLeastSquares(segment_models, main_surface_idx)\n",
    "segment_models = util.flip_normals_by_bend_orientation(segment_models, intersection_lines, segments, main_surface_idx, pcd_tree, search_radius=0.8, verbose=False)"
   ]
  },
  {
   "cell_type": "code",
   "execution_count": null,
   "id": "2a5a269b",
   "metadata": {},
   "outputs": [],
   "source": []
  },
  {
   "cell_type": "code",
   "execution_count": 5,
   "id": "36a26e39",
   "metadata": {},
   "outputs": [],
   "source": [
    "draw_normal_arrows_with_geometry(segment_models, segments, main_surface_idx, random_flip=False)"
   ]
  }
 ],
 "metadata": {
  "kernelspec": {
   "display_name": "pointclouds",
   "language": "python",
   "name": "python3"
  },
  "language_info": {
   "codemirror_mode": {
    "name": "ipython",
    "version": 3
   },
   "file_extension": ".py",
   "mimetype": "text/x-python",
   "name": "python",
   "nbconvert_exporter": "python",
   "pygments_lexer": "ipython3",
   "version": "3.9.16"
  }
 },
 "nbformat": 4,
 "nbformat_minor": 5
}
