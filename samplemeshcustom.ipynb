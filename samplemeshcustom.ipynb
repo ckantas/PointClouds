{
 "cells": [
  {
   "cell_type": "code",
   "execution_count": null,
   "id": "263d554f",
   "metadata": {},
   "outputs": [
    {
     "name": "stdout",
     "output_type": "stream",
     "text": [
      "Jupyter environment detected. Enabling Open3D WebVisualizer.\n",
      "[Open3D INFO] WebRTC GUI backend enabled.\n",
      "[Open3D INFO] WebRTCWindowSystem: HTTP handshake server disabled.\n"
     ]
    }
   ],
   "source": [
    "import open3d as o3d\n",
    "import numpy as np\n",
    "\n",
    "# Load mesh\n",
    "mesh = o3d.io.read_triangle_mesh(\"/home/chris/Code/PointClouds/data/FLIPscans/GrateAndCover/gratenew.obj\")\n",
    "mesh.compute_triangle_normals()\n",
    "\n",
    "# OPTIONAL: Visualize to pick a crop manually\n",
    "# o3d.visualization.draw_geometries([mesh])\n",
    "\n",
    "# -------------------\n",
    "# CHRIS: UPDATE THESE BOUNDS BASED ON VISUAL SELECTION\n",
    "# You can use the bounding box of bend 1 if it's known\n",
    "crop_min = np.array([50, 0, -100])\n",
    "crop_max = np.array([190, 170, 100])\n",
    "# -------------------\n",
    "\n",
    "crop_box = o3d.geometry.AxisAlignedBoundingBox(crop_min, crop_max)\n",
    "mesh_crop = mesh.crop(crop_box)\n",
    "\n",
    "# Visualize cropped mesh (optional sanity check)\n",
    "# o3d.visualization.draw_geometries([mesh_crop])\n",
    "\n",
    "# Create raycasting scene\n",
    "scene = o3d.t.geometry.RaycastingScene()\n",
    "mesh_id = scene.add_triangles(o3d.t.geometry.TriangleMesh.from_legacy(mesh_crop))\n",
    "\n",
    "# Use only the XY range of the crop box\n",
    "min_x, min_y, _ = crop_min\n",
    "max_x, max_y, _ = crop_max\n",
    "\n",
    "# Increase resolution for dense sampling\n",
    "num_x = 2000\n",
    "num_y = 2000\n",
    "\n",
    "x_vals = np.linspace(min_x, max_x, num_x)\n",
    "y_vals = np.linspace(min_y, max_y, num_y)\n",
    "xx, yy = np.meshgrid(x_vals, y_vals)\n",
    "\n",
    "origin_z = crop_max[2] + 10  # slightly above surface\n",
    "\n",
    "origins = np.stack([xx.ravel(), yy.ravel(), np.full(xx.size, origin_z)], axis=1)\n",
    "directions = np.tile([0, 0, -1], (origins.shape[0], 1))\n",
    "\n",
    "rays = o3d.core.Tensor(np.hstack((origins, directions)), dtype=o3d.core.Dtype.Float32)\n",
    "hits = scene.cast_rays(rays)\n",
    "\n",
    "mask = hits['t_hit'].isfinite()\n",
    "hit_points = origins[mask.numpy()] + hits['t_hit'][mask].numpy().reshape(-1, 1) * directions[mask.numpy()]\n",
    "\n",
    "pcd = o3d.geometry.PointCloud(o3d.utility.Vector3dVector(hit_points))\n",
    "o3d.io.write_point_cloud(\"sampled_dense_region.ply\", pcd)\n",
    "o3d.visualization.draw_geometries([pcd])\n"
   ]
  },
  {
   "cell_type": "code",
   "execution_count": 11,
   "id": "747ae02b",
   "metadata": {},
   "outputs": [
    {
     "name": "stdout",
     "output_type": "stream",
     "text": [
      "Mesh bounds: [300.         300.          16.89474106]\n",
      "Ray origin Z: 26.89474105834961\n",
      "Ray direction: [ 0  0 -1]\n"
     ]
    }
   ],
   "source": [
    "print(\"Mesh bounds:\", np.asarray(mesh.get_axis_aligned_bounding_box().get_extent()))\n",
    "print(\"Ray origin Z:\", origins[0][2])\n",
    "print(\"Ray direction:\", directions[0])"
   ]
  },
  {
   "cell_type": "code",
   "execution_count": 50,
   "id": "e757df04",
   "metadata": {},
   "outputs": [],
   "source": [
    "import open3d as o3d\n",
    "import numpy as np\n",
    "\n",
    "# Load mesh\n",
    "mesh = o3d.io.read_triangle_mesh(\"C:/Users/chris/Downloads/BendyCAD.STL\")\n",
    "mesh.compute_vertex_normals()\n",
    "\n",
    "# Step 1: Apply rotation so that the scanned face is up\n",
    "# You said previously this was: x=290, y=0, z=270\n",
    "Rx = mesh.get_rotation_matrix_from_axis_angle([np.deg2rad(110), 0, 0])\n",
    "Ry = mesh.get_rotation_matrix_from_axis_angle([0, np.deg2rad(0), 0])\n",
    "Rz = mesh.get_rotation_matrix_from_axis_angle([0, 0, np.deg2rad(90)])\n",
    "\n",
    "# Apply in ZYX order\n",
    "mesh.rotate(Rx, center=mesh.get_center())\n",
    "mesh.rotate(Ry, center=mesh.get_center())\n",
    "mesh.rotate(Rz, center=mesh.get_center())\n",
    "\n",
    "# Step 2: Top-down camera\n",
    "o3d.visualization.draw_geometries(\n",
    "    [mesh])\n"
   ]
  },
  {
   "cell_type": "code",
   "execution_count": 51,
   "id": "7481b7df",
   "metadata": {},
   "outputs": [],
   "source": [
    "def raycast_topdown(mesh, spacing=0.2, origin_offset=10.0):\n",
    "    import open3d as o3d\n",
    "    import numpy as np\n",
    "\n",
    "    mesh.compute_triangle_normals()\n",
    "    scene = o3d.t.geometry.RaycastingScene()\n",
    "    t_mesh = o3d.t.geometry.TriangleMesh.from_legacy(mesh)\n",
    "    _ = scene.add_triangles(t_mesh)\n",
    "\n",
    "    # Bounding box (after rotation)\n",
    "    aabb = mesh.get_axis_aligned_bounding_box()\n",
    "    min_x, min_y, _ = aabb.min_bound\n",
    "    max_x, max_y, _ = aabb.max_bound\n",
    "    width = max_x - min_x\n",
    "    height = max_y - min_y\n",
    "\n",
    "    # Ray grid resolution based on spacing\n",
    "    num_x = int(width / spacing)\n",
    "    num_y = int(height / spacing)\n",
    "    x_vals = np.linspace(min_x, max_x, num_x)\n",
    "    y_vals = np.linspace(min_y, max_y, num_y)\n",
    "    xx, yy = np.meshgrid(x_vals, y_vals)\n",
    "\n",
    "    # Place origins above the mesh\n",
    "    origin_z = aabb.max_bound[2] + origin_offset\n",
    "    origins = np.stack([xx.ravel(), yy.ravel(), np.full(xx.size, origin_z)], axis=1)\n",
    "    directions = np.tile([0, 0, -1], (origins.shape[0], 1))  # straight down\n",
    "\n",
    "    rays = o3d.core.Tensor(np.hstack((origins, directions)), dtype=o3d.core.Dtype.Float32)\n",
    "    hits = scene.cast_rays(rays)\n",
    "\n",
    "    mask = hits['t_hit'].isfinite()\n",
    "    hit_points = origins[mask.numpy()] + hits['t_hit'][mask].numpy().reshape(-1, 1) * directions[mask.numpy()]\n",
    "    return o3d.geometry.PointCloud(o3d.utility.Vector3dVector(hit_points))\n"
   ]
  },
  {
   "cell_type": "code",
   "execution_count": 52,
   "id": "8aeafa4b",
   "metadata": {},
   "outputs": [
    {
     "name": "stdout",
     "output_type": "stream",
     "text": [
      "[Open3D WARNING] GLFW Error: WGL: Failed to make context current: The requested transformation operation is not supported. \n"
     ]
    }
   ],
   "source": [
    "pcd = raycast_topdown(mesh)\n",
    "o3d.visualization.draw_geometries([mesh, pcd])"
   ]
  }
 ],
 "metadata": {
  "kernelspec": {
   "display_name": "pointclouds",
   "language": "python",
   "name": "python3"
  },
  "language_info": {
   "codemirror_mode": {
    "name": "ipython",
    "version": 3
   },
   "file_extension": ".py",
   "mimetype": "text/x-python",
   "name": "python",
   "nbconvert_exporter": "python",
   "pygments_lexer": "ipython3",
   "version": "3.11.8"
  }
 },
 "nbformat": 4,
 "nbformat_minor": 5
}
