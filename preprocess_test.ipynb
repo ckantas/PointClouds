{
 "cells": [
  {
   "cell_type": "code",
   "execution_count": 1,
   "id": "03fac330",
   "metadata": {},
   "outputs": [
    {
     "name": "stdout",
     "output_type": "stream",
     "text": [
      "Jupyter environment detected. Enabling Open3D WebVisualizer.\n",
      "[Open3D INFO] WebRTC GUI backend enabled.\n",
      "[Open3D INFO] WebRTCWindowSystem: HTTP handshake server disabled.\n"
     ]
    }
   ],
   "source": [
    "import open3d as o3d\n",
    "import numpy as np"
   ]
  },
  {
   "cell_type": "code",
   "execution_count": 11,
   "id": "8e4bf95f",
   "metadata": {},
   "outputs": [
    {
     "name": "stdout",
     "output_type": "stream",
     "text": [
      "[INFO] Loaded scan with 1492459 points.\n",
      "[INFO] Average density (excluding sparse points): 288.62 points per 1.0mm sphere\n",
      "[INFO] Used 998 / 1001 sampled points (≥ 30 neighbors)\n"
     ]
    }
   ],
   "source": [
    "def load_point_cloud(filepath, visualize=False):\n",
    "    pcd = o3d.io.read_point_cloud(filepath)\n",
    "    print(f\"[INFO] Loaded scan with {len(pcd.points)} points.\")\n",
    "    if visualize:\n",
    "        o3d.visualization.draw_geometries([pcd])\n",
    "    return pcd\n",
    "\n",
    "def estimate_point_density(pcd, radius_mm=1.0, min_neighbors=30):\n",
    "    kdtree = o3d.geometry.KDTreeFlann(pcd)\n",
    "    counts = []\n",
    "    total_checked = 0\n",
    "    for i in range(0, len(pcd.points), max(1, len(pcd.points)//1000)):  # sample ~1000 points\n",
    "        [_, idx, _] = kdtree.search_radius_vector_3d(pcd.points[i], radius_mm)\n",
    "        neighbor_count = len(idx) - 1  # exclude the point itself\n",
    "        if neighbor_count >= min_neighbors:\n",
    "            counts.append(neighbor_count)\n",
    "        total_checked += 1\n",
    "\n",
    "    if counts:\n",
    "        avg_density = np.mean(counts)\n",
    "        print(f\"[INFO] Average density (excluding sparse points): {avg_density:.2f} points per {radius_mm}mm sphere\")\n",
    "        print(f\"[INFO] Used {len(counts)} / {total_checked} sampled points (≥ {min_neighbors} neighbors)\")\n",
    "    else:\n",
    "        avg_density = 0\n",
    "        print(f\"[WARN] No sampled points had ≥ {min_neighbors} neighbors.\")\n",
    "\n",
    "    return avg_density\n",
    "\n",
    "\n",
    "pcd = load_point_cloud(\"/home/chris/Code/PointClouds/data/FLIPscans/Bendy/Bendy_1/scan1_Part1.ply\", visualize=True)\n",
    "avg_density = estimate_point_density(pcd, radius_mm=1.0)"
   ]
  },
  {
   "cell_type": "code",
   "execution_count": 30,
   "id": "7260280e",
   "metadata": {},
   "outputs": [],
   "source": [
    "def show_cad_adjusted(cad_path, z_rotation=0, x_rotation=0, y_rotation=0):\n",
    "    mesh = o3d.io.read_triangle_mesh(cad_path)\n",
    "    mesh.compute_vertex_normals()\n",
    "\n",
    "    # Combine rotations in ZYX order\n",
    "    Rz = mesh.get_rotation_matrix_from_axis_angle([0, 0, np.deg2rad(z_rotation)])\n",
    "    Rx = mesh.get_rotation_matrix_from_axis_angle([np.deg2rad(x_rotation), 0, 0])\n",
    "    Ry = mesh.get_rotation_matrix_from_axis_angle([0, np.deg2rad(y_rotation), 0])\n",
    "\n",
    "    # Apply rotations\n",
    "    mesh.rotate(Rx, center=mesh.get_center())\n",
    "    mesh.rotate(Ry, center=mesh.get_center())\n",
    "    mesh.rotate(Rz, center=mesh.get_center())\n",
    "    mesh.paint_uniform_color([0.6, 0.6, 0.9])\n",
    "\n",
    "    o3d.visualization.draw_geometries([mesh],\n",
    "        front=[0, 0, -1],  # camera looks down\n",
    "        up=[0, -1, 0]      # keeps left/right orientation intuitive\n",
    "    )\n",
    "\n",
    "# Try different values to see which aligns \"top\" to Z:\n",
    "show_cad_adjusted(\"/home/chris/Code/PointClouds/data/FLIPscans/Bendy/BendyCAD.STL\", x_rotation=290, y_rotation=0, z_rotation=270)"
   ]
  },
  {
   "cell_type": "code",
   "execution_count": null,
   "id": "1887f05f",
   "metadata": {},
   "outputs": [
    {
     "name": "stdout",
     "output_type": "stream",
     "text": [
      "[INFO] Ray grid: 234 x 311 (0.241 mm spacing)\n",
      "[INFO] Generated point cloud with 55552 points.\n"
     ]
    }
   ],
   "source": [
    "def raycast_mesh(mesh, origin_offset=10, target_density=300):\n",
    "    import open3d as o3d\n",
    "    import numpy as np\n",
    "\n",
    "    mesh.compute_triangle_normals()\n",
    "\n",
    "    # Apply rotation (already rotated)\n",
    "    t_mesh = o3d.t.geometry.TriangleMesh.from_legacy(mesh)\n",
    "    scene = o3d.t.geometry.RaycastingScene()\n",
    "    _ = scene.add_triangles(t_mesh)\n",
    "\n",
    "    # Bounding box\n",
    "    bbox = mesh.get_axis_aligned_bounding_box()\n",
    "    min_x, min_y, _ = bbox.min_bound\n",
    "    max_x, max_y, _ = bbox.max_bound\n",
    "    width = max_x - min_x\n",
    "    height = max_y - min_y\n",
    "\n",
    "    # Estimate point spacing for target density\n",
    "    spacing = (4.19 / target_density) ** (1/3)  # mm per point\n",
    "    num_x = int(width / spacing)\n",
    "    num_y = int(height / spacing)\n",
    "\n",
    "    print(f\"[INFO] Ray grid: {num_x} x {num_y} ({spacing:.3f} mm spacing)\")\n",
    "\n",
    "    # Grid\n",
    "    x_vals = np.linspace(min_x, max_x, num_x)\n",
    "    y_vals = np.linspace(min_y, max_y, num_y)\n",
    "    xx, yy = np.meshgrid(x_vals, y_vals)\n",
    "\n",
    "    # Rays\n",
    "    origin_z = bbox.max_bound[2] + origin_offset\n",
    "    origins = np.stack([xx.ravel(), yy.ravel(), np.full(xx.size, origin_z)], axis=1)\n",
    "    directions = np.tile([0, 0, -1], (origins.shape[0], 1))\n",
    "\n",
    "    rays = o3d.core.Tensor(np.hstack((origins, directions)), dtype=o3d.core.Dtype.Float32)\n",
    "    hits = scene.cast_rays(rays)\n",
    "\n",
    "    mask = hits['t_hit'].isfinite()\n",
    "    hit_points = origins[mask.numpy()] + hits['t_hit'][mask].numpy().reshape(-1, 1) * directions[mask.numpy()]\n",
    "    pcd = o3d.geometry.PointCloud(o3d.utility.Vector3dVector(hit_points))\n",
    "\n",
    "    print(f\"[INFO] Generated point cloud with {len(pcd.points)} points.\")\n",
    "    return pcd\n",
    "\n",
    "\n",
    "x_rotation=290\n",
    "y_rotation=0\n",
    "z_rotation=270\n",
    "\n",
    "mesh = o3d.io.read_triangle_mesh(\"/home/chris/Code/PointClouds/data/FLIPscans/Bendy/BendyCAD.STL\")\n",
    "# Apply rotation manually\n",
    "# Combine rotations in ZYX order\n",
    "Rz = mesh.get_rotation_matrix_from_axis_angle([0, 0, np.deg2rad(z_rotation)])\n",
    "Rx = mesh.get_rotation_matrix_from_axis_angle([np.deg2rad(x_rotation), 0, 0])\n",
    "Ry = mesh.get_rotation_matrix_from_axis_angle([0, np.deg2rad(y_rotation), 0])\n",
    "\n",
    "# Apply rotations\n",
    "mesh.rotate(Rx, center=mesh.get_center())\n",
    "mesh.rotate(Ry, center=mesh.get_center())\n",
    "mesh.rotate(Rz, center=mesh.get_center())\n",
    "\n",
    "mesh.paint_uniform_color([0.6, 0.6, 0.9])\n",
    "\n",
    "pcd = raycast_mesh(mesh)\n",
    "o3d.visualization.draw_geometries([pcd],front=[0, 0, -1], up=[0, -1, 0])\n",
    "\n"
   ]
  }
 ],
 "metadata": {
  "kernelspec": {
   "display_name": "pointclouds",
   "language": "python",
   "name": "python3"
  },
  "language_info": {
   "codemirror_mode": {
    "name": "ipython",
    "version": 3
   },
   "file_extension": ".py",
   "mimetype": "text/x-python",
   "name": "python",
   "nbconvert_exporter": "python",
   "pygments_lexer": "ipython3",
   "version": "3.9.16"
  }
 },
 "nbformat": 4,
 "nbformat_minor": 5
}
