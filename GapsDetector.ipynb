{
 "cells": [
  {
   "cell_type": "code",
   "execution_count": 1,
   "metadata": {},
   "outputs": [
    {
     "name": "stdout",
     "output_type": "stream",
     "text": [
      "Jupyter environment detected. Enabling Open3D WebVisualizer.\n",
      "[Open3D INFO] WebRTC GUI backend enabled.\n",
      "[Open3D INFO] WebRTCWindowSystem: HTTP handshake server disabled.\n"
     ]
    }
   ],
   "source": [
    "import numpy as np\n",
    "import open3d as o3d\n",
    "import matplotlib.pyplot as plt\n",
    "import math\n",
    "from functools import partial\n",
    "from open3d.t.geometry import TriangleMesh\n",
    "from tqdm import tqdm "
   ]
  },
  {
   "cell_type": "code",
   "execution_count": 2,
   "metadata": {},
   "outputs": [],
   "source": [
    "dataname = \"C:/Users/chris/Desktop/NewData/CoverCleaned290k.ply\"\n",
    "pcd = o3d.io.read_point_cloud(dataname)"
   ]
  },
  {
   "cell_type": "code",
   "execution_count": 3,
   "metadata": {},
   "outputs": [
    {
     "data": {
      "text/plain": [
       "PointCloud with 288918 points."
      ]
     },
     "execution_count": 3,
     "metadata": {},
     "output_type": "execute_result"
    }
   ],
   "source": [
    "pcd_center = pcd.get_center()\n",
    "pcd.translate(-pcd_center)"
   ]
  },
  {
   "cell_type": "code",
   "execution_count": 4,
   "metadata": {},
   "outputs": [],
   "source": [
    "#Outlier removal\n",
    "\n",
    "nn = 16\n",
    "std_multiplier = 10\n",
    "\n",
    "filtered_pcd = pcd.remove_statistical_outlier(nn,std_multiplier)\n",
    "outliers = pcd.select_by_index(filtered_pcd[1], invert = True)\n",
    "outliers.paint_uniform_color([1,0,0])\n",
    "filtered_pcd = filtered_pcd[0]\n",
    "\n",
    "#o3d.visualization.draw_geometries([filtered_pcd, outliers])"
   ]
  },
  {
   "cell_type": "code",
   "execution_count": 5,
   "metadata": {},
   "outputs": [
    {
     "name": "stdout",
     "output_type": "stream",
     "text": [
      "number of points: 288904\n"
     ]
    }
   ],
   "source": [
    "#Downsampling\n",
    "\n",
    "voxel_size = 0.01\n",
    "pcd_downsampled = filtered_pcd.voxel_down_sample(voxel_size=voxel_size)\n",
    "print(f'number of points: {len(pcd_downsampled.points)}')\n",
    "#o3d.visualization.draw_geometries([pcd_downsampled])"
   ]
  },
  {
   "cell_type": "code",
   "execution_count": 6,
   "metadata": {},
   "outputs": [
    {
     "data": {
      "text/plain": [
       "PointCloud with 288904 points."
      ]
     },
     "execution_count": 6,
     "metadata": {},
     "output_type": "execute_result"
    }
   ],
   "source": [
    "#Extract normals\n",
    "\n",
    "nn_distance = np.mean([pcd.compute_nearest_neighbor_distance()])\n",
    "radius_normals = nn_distance*4\n",
    "\n",
    "pcd_downsampled.estimate_normals(search_param=o3d.geometry.KDTreeSearchParamHybrid(radius=radius_normals, max_nn=16), fast_normal_computation=True)\n",
    "\n",
    "pcd_downsampled.paint_uniform_color([0.6,0.6,0.6])\n",
    "#o3d.visualization.draw_geometries([pcd_downsampled, outliers])"
   ]
  },
  {
   "cell_type": "code",
   "execution_count": 7,
   "metadata": {},
   "outputs": [],
   "source": [
    "# Extracting and Setting Parameters\n",
    "\n",
    "front =  [-0.47452876114542436, 0.57451207113849134, -0.66690204300328082]\n",
    "lookat = [-6.3976792217838847, 20.927374714553928, 18.659758576873813]\n",
    "up =  [-0.056918726368614558, -0.77607794684805009, -0.62806311705487861]\n",
    "zoom = 0.69999999999999996\n",
    "\n",
    "pcd = pcd_downsampled\n",
    "\n",
    "#o3d.visualization.draw_geometries([pcd_downsampled], zoom=zoom, front=front, lookat=lookat, up=up)"
   ]
  },
  {
   "cell_type": "code",
   "execution_count": 8,
   "metadata": {},
   "outputs": [
    {
     "name": "stdout",
     "output_type": "stream",
     "text": [
      "Run 0/7 started. Done\n",
      "Run 1/7 started. Done\n",
      "Run 2/7 started. Done\n",
      "Run 3/7 started. Done\n",
      "Run 4/7 started. Done\n",
      "Run 5/7 started. Done\n",
      "Run 6/7 started. Done\n",
      "Largest surface found with segment idx 0\n",
      "{0: array([ 0.00143699,  0.00384227,  0.99999159, -0.74456263]), 1: array([ 0.00814197, -0.53006545,  0.84791764, -1.84750476]), 2: array([0.45026251, 0.27378575, 0.8498853 , 1.28167885]), 3: array([-0.01017461,  0.51948997,  0.85441597,  0.42343939]), 4: array([ 0.47051246, -0.24888749,  0.84656544, -0.29458513]), 5: array([-0.45046853, -0.26538736,  0.8524363 , -2.79663185]), 6: array([-0.46947973,  0.25628603,  0.84492973, -2.11099953])}\n"
     ]
    }
   ],
   "source": [
    "# Multi-order Ransac\n",
    "\n",
    "max_plane_idx = 7\n",
    "pt_to_plane_dist = 0.4\n",
    "\n",
    "segment_models = {}\n",
    "segments = {}\n",
    "main_surface_idx = 0\n",
    "largest_surface_points = 0\n",
    "rest = pcd\n",
    "\n",
    "for i in range(max_plane_idx):\n",
    "    print(f'Run {i}/{max_plane_idx} started. ', end='')\n",
    "    colors = plt.get_cmap(\"tab20\")(i)\n",
    "    segment_models[i], inliers = rest.segment_plane(distance_threshold=pt_to_plane_dist,ransac_n=3,num_iterations=50000)\n",
    "    segments[i] = rest.select_by_index(inliers)\n",
    "    if len(segments[i].points) > largest_surface_points:\n",
    "        largest_surface_points = len(segments[i].points) \n",
    "        main_surface_idx = i\n",
    "    segments[i].paint_uniform_color(list(colors[:3]))\n",
    "    rest = rest.select_by_index(inliers, invert=True)\n",
    "    print('Done')\n",
    "\n",
    "print('Largest surface found with segment idx', main_surface_idx)\n",
    "print(segment_models)\n",
    "#o3d.visualization.draw_geometries([segments[i] for i in range(max_plane_idx)]+[rest],zoom=zoom,front=front,lookat=lookat,up=up)"
   ]
  },
  {
   "cell_type": "code",
   "execution_count": 9,
   "metadata": {},
   "outputs": [],
   "source": [
    "# #Initial attempt at gap detection - Idea: Chris , Execution: ChatGPT\n",
    "# from tqdm import tqdm \n",
    "\n",
    "# main_surface_pcd = segments[main_surface_idx]\n",
    "\n",
    "# # Create a KDTree for efficient neighbor searches\n",
    "# pcd_tree = o3d.geometry.KDTreeFlann(main_surface_pcd)\n",
    "\n",
    "# # Define grid bounds based on the point cloud extents\n",
    "# min_bound = main_surface_pcd.get_min_bound()\n",
    "# max_bound = main_surface_pcd.get_max_bound()\n",
    "\n",
    "# # Set grid resolution and neighbor search parameters\n",
    "# grid_resolution = 0.2  # Set based on your application's needs\n",
    "# search_radius = 1    # Set based on average spacing/density of points\n",
    "# neighbor_threshold = 5 # Threshold for minimum number of neighbors\n",
    "\n",
    "# # Create a grid of points to sample\n",
    "# x_grid = np.arange(min_bound[0], max_bound[0], grid_resolution)\n",
    "# y_grid = np.arange(min_bound[1], max_bound[1], grid_resolution)\n",
    "# z_value = np.mean([min_bound[2], max_bound[2]])  # Assuming a relatively flat surface on the XY plane\n",
    "\n",
    "# gap_points = []\n",
    "# for x in tqdm(x_grid):\n",
    "#     for y in y_grid:\n",
    "#         query_point = np.array([x, y, z_value])\n",
    "#         k, idx, _ = pcd_tree.search_radius_vector_3d(query_point, search_radius)\n",
    "#         if k < neighbor_threshold:\n",
    "#             gap_points.append(query_point)\n",
    "\n",
    "# # Create a point cloud from gap points\n",
    "# gap_pcd = o3d.geometry.PointCloud()\n",
    "# gap_pcd.points = o3d.utility.Vector3dVector(gap_points)\n",
    "# gap_pcd.paint_uniform_color([1, 0, 0])  # Red color for gaps\n",
    "\n",
    "# # Visualize the results\n",
    "# o3d.visualization.draw_geometries([main_surface_pcd, gap_pcd], zoom=zoom, front=front, lookat=lookat, up=up)"
   ]
  },
  {
   "cell_type": "code",
   "execution_count": null,
   "metadata": {},
   "outputs": [],
   "source": []
  },
  {
   "cell_type": "code",
   "execution_count": 15,
   "metadata": {},
   "outputs": [
    {
     "name": "stderr",
     "output_type": "stream",
     "text": [
      "100%|██████████| 1248/1248 [00:09<00:00, 131.57it/s]\n"
     ]
    }
   ],
   "source": [
    "main_surface_pcd = segments[main_surface_idx]\n",
    "np.asarray(main_surface_pcd.points)[:, 2] = 0\n",
    "\n",
    "pcd_tree = o3d.geometry.KDTreeFlann(main_surface_pcd)\n",
    "\n",
    "grid_resolution = 0.2 \n",
    "search_radius = 1  \n",
    "neighbor_threshold = 10\n",
    "\n",
    "\n",
    "min_bound = main_surface_pcd.get_min_bound()\n",
    "max_bound = main_surface_pcd.get_max_bound()\n",
    "\n",
    "x_grid = np.arange(min_bound[0], max_bound[0], grid_resolution)\n",
    "y_grid = np.arange(min_bound[1], max_bound[1], grid_resolution)\n",
    "z_value = np.mean([min_bound[2], max_bound[2]])\n",
    "\n",
    "gap_points = []\n",
    "for x in tqdm(x_grid):\n",
    "    for y in y_grid:\n",
    "        query_point = np.array([x, y, z_value])\n",
    "        k, idx, _ = pcd_tree.search_radius_vector_3d(query_point, search_radius)\n",
    "        if k < neighbor_threshold:\n",
    "            gap_points.append(query_point)\n",
    "\n",
    "gap_pcd = o3d.geometry.PointCloud()\n",
    "gap_pcd.points = o3d.utility.Vector3dVector(gap_points)\n",
    "gap_pcd.paint_uniform_color([1, 0, 0]) \n",
    "\n",
    "o3d.visualization.draw_geometries([main_surface_pcd, gap_pcd], zoom=zoom, front=front, lookat=lookat, up=up)"
   ]
  }
 ],
 "metadata": {
  "kernelspec": {
   "display_name": "pointclouds",
   "language": "python",
   "name": "python3"
  },
  "language_info": {
   "codemirror_mode": {
    "name": "ipython",
    "version": 3
   },
   "file_extension": ".py",
   "mimetype": "text/x-python",
   "name": "python",
   "nbconvert_exporter": "python",
   "pygments_lexer": "ipython3",
   "version": "3.11.8"
  }
 },
 "nbformat": 4,
 "nbformat_minor": 2
}
