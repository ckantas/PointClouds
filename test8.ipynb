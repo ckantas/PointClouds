{
 "cells": [
  {
   "cell_type": "code",
   "execution_count": 1,
   "metadata": {},
   "outputs": [
    {
     "name": "stdout",
     "output_type": "stream",
     "text": [
      "Jupyter environment detected. Enabling Open3D WebVisualizer.\n",
      "[Open3D INFO] WebRTC GUI backend enabled.\n",
      "[Open3D INFO] WebRTCWindowSystem: HTTP handshake server disabled.\n"
     ]
    }
   ],
   "source": [
    "import multiprocessing\n",
    "import os\n",
    "import time\n",
    "import numpy as np\n",
    "from scipy.spatial import cKDTree\n",
    "import open3d as o3d\n",
    "import util\n",
    "from tqdm import tqdm\n",
    "import matplotlib.pyplot as plt\n",
    "from matplotlib import cm\n",
    "import random"
   ]
  },
  {
   "cell_type": "code",
   "execution_count": null,
   "metadata": {},
   "outputs": [
    {
     "name": "stdout",
     "output_type": "stream",
     "text": [
      "First PCA time: 132.81 seconds\n",
      "Total iterations: 132141\n",
      "Average query time: 0.000036 sec, Total: 4.73 sec\n",
      "Average retrieval time: 0.000019 sec, Total: 2.46 sec\n",
      "Average alignment time: 0.000014 sec, Total: 1.81 sec\n",
      "Average std calculation time: 0.000066 sec, Total: 8.72 sec\n",
      "Total function execution time: 17.73 sec\n",
      "Single-core execution time: 18.22 seconds\n",
      "First 5 standard deviations (single-core):\n",
      "[0.01365144150492793, 0.014245041924701855, 0.014844887086097758, 0.0153503349845382, 0.015227066100826067]\n"
     ]
    }
   ],
   "source": [
    "kdtree = None\n",
    "radius = 1.3\n",
    "\n",
    "def init_kdtree(tree):\n",
    "    global kdtree\n",
    "    kdtree = tree\n",
    "\n",
    "def find_plane_directions(indices, points, radius=2):\n",
    "    normals = []\n",
    "    for idx in indices:\n",
    "        neighbor_indices = kdtree.query_ball_point(points[idx], radius)\n",
    "        neighbors = points[neighbor_indices]\n",
    "        mean = np.mean(neighbors, axis=0)\n",
    "        norm = neighbors - mean\n",
    "        cov = np.cov(norm.T)\n",
    "        eig_val, eig_vec = np.linalg.eigh(cov)\n",
    "        sorted_idx = np.argsort(eig_val)[::-1]\n",
    "        eig_vec = eig_vec[:, sorted_idx]\n",
    "        plane_direction = eig_vec[:, 2]\n",
    "        normals.append(plane_direction)\n",
    "    return normals\n",
    "\n",
    "def calculate_normal_standard_deviation(indices, points, normals, radius=2):\n",
    "    standard_deviations = []\n",
    "\n",
    "    for idx in indices:\n",
    "        # **Step 1: Neighbor Query**\n",
    "        neighbor_indices = kdtree.query_ball_point(points[idx], radius)\n",
    "\n",
    "        # **Step 2: Retrieve Neighbor Normals (Optimized)**\n",
    "        neighbor_normals = normals[neighbor_indices]  # Direct indexing (no conversion)\n",
    "\n",
    "        if len(neighbor_normals) == 0:\n",
    "            standard_deviations.append(0)  \n",
    "            continue\n",
    "\n",
    "        # **Step 3: Align Normals**\n",
    "        reference_normal = neighbor_normals[0]\n",
    "        dot_products = np.dot(neighbor_normals, reference_normal)\n",
    "        aligned_normals = neighbor_normals * np.sign(dot_products)[:, np.newaxis]\n",
    "\n",
    "        # **Step 4: Standard Deviation Calculation**\n",
    "        std_dev = np.std(aligned_normals, axis=0)\n",
    "        variation_measure = np.sum(std_dev)  \n",
    "\n",
    "        standard_deviations.append(variation_measure)\n",
    "\n",
    "    return standard_deviations  \n",
    "\n",
    "if __name__ == \"__main__\": \n",
    "    dataname = \"/home/chris/Code/PointClouds/data/ply/CircularVentilationGrateExtraCleanedFull.ply\"\n",
    "    pcd = o3d.io.read_point_cloud(dataname)\n",
    "    pcd = util.preProcessCloud(pcd)\n",
    "    myarray = np.asarray(pcd.points)\n",
    "    indices = np.arange(len(myarray))\n",
    "    kdtree = cKDTree(myarray)\n",
    "    num_chunks = 16\n",
    "    chunk_size = len(myarray) // num_chunks\n",
    "    chunked_indices = [indices[i:i + chunk_size] for i in range(0, len(indices), chunk_size)]\n",
    "\n",
    "    # First pass: Compute normals\n",
    "    start_time_first_pca = time.time()\n",
    "    with multiprocessing.Pool(processes=4, initializer=init_kdtree, initargs=(kdtree,)) as pool:\n",
    "        normals_chunks = pool.starmap(find_plane_directions, [(chunk_indices, myarray, radius) for chunk_indices in chunked_indices])\n",
    "    first_pca_duration = time.time() - start_time_first_pca\n",
    "    print(f\"First PCA time: {first_pca_duration:.2f} seconds\")\n",
    "\n",
    "    # Flatten normals to a single array in order\n",
    "    all_normals = np.vstack(normals_chunks)\n",
    "\n",
    "    # # Flatten standard deviations to maintain order\n",
    "    # standard_deviations = np.hstack(standard_deviation_chunks)\n",
    "\n",
    "    # # Normalize variation values\n",
    "    # max_variation = np.max(standard_deviations) if len(standard_deviations) > 0 else 1\n",
    "    # standard_deviations /= max_variation\n",
    "\n",
    "    # Single-core execution check\n",
    "    start_time_single_core = time.time()\n",
    "\n",
    "    # Pick the first chunk for testing\n",
    "    test_chunk = chunked_indices[0]\n",
    "\n",
    "    # Run without multiprocessing\n",
    "    results_single = calculate_normal_standard_deviation(test_chunk, myarray, all_normals, radius)\n",
    "\n",
    "    # Print timing results\n",
    "    single_core_duration = time.time() - start_time_single_core\n",
    "    print(f\"Single-core execution time: {single_core_duration:.2f} seconds\")\n",
    "\n",
    "    # Print first 5 results to verify\n",
    "    print(\"First 5 standard deviations (single-core):\")\n",
    "    print(results_single[:5])"
   ]
  },
  {
   "cell_type": "code",
   "execution_count": 3,
   "metadata": {},
   "outputs": [
    {
     "name": "stdout",
     "output_type": "stream",
     "text": [
      "Number of points in test chunk: 132141\n"
     ]
    }
   ],
   "source": [
    "test_chunk = chunked_indices[0]\n",
    "print(f\"Number of points in test chunk: {len(test_chunk)}\")  # Add this line"
   ]
  }
 ],
 "metadata": {
  "kernelspec": {
   "display_name": "pointclouds",
   "language": "python",
   "name": "python3"
  },
  "language_info": {
   "codemirror_mode": {
    "name": "ipython",
    "version": 3
   },
   "file_extension": ".py",
   "mimetype": "text/x-python",
   "name": "python",
   "nbconvert_exporter": "python",
   "pygments_lexer": "ipython3",
   "version": "3.9.16"
  }
 },
 "nbformat": 4,
 "nbformat_minor": 2
}
