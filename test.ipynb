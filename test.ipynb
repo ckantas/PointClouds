{
 "cells": [
  {
   "cell_type": "code",
   "execution_count": 2,
   "metadata": {},
   "outputs": [
    {
     "name": "stdout",
     "output_type": "stream",
     "text": [
      "Jupyter environment detected. Enabling Open3D WebVisualizer.\n",
      "[Open3D INFO] WebRTC GUI backend enabled.\n",
      "[Open3D INFO] WebRTCWindowSystem: HTTP handshake server disabled.\n"
     ]
    }
   ],
   "source": [
    "import numpy as np\n",
    "import open3d as o3d\n",
    "import matplotlib.pyplot as plt\n",
    "import math\n",
    "from functools import partial\n",
    "from open3d.t.geometry import TriangleMesh\n",
    "import util"
   ]
  },
  {
   "cell_type": "code",
   "execution_count": 3,
   "metadata": {},
   "outputs": [],
   "source": [
    "dataname = \"/home/chris/Code/PointClouds/data/ply/CircularVentilationGrateExtraCleanedFull.ply\"\n",
    "pcd = o3d.io.read_point_cloud(dataname)\n",
    "pcd = util.preProcessCloud(pcd)"
   ]
  },
  {
   "cell_type": "code",
   "execution_count": 4,
   "metadata": {},
   "outputs": [],
   "source": [
    "def colorize_octree(octree, depth=8):\n",
    "    colors = np.random.rand(2**depth, 3)  # Generate random colors for nodes\n",
    "\n",
    "    def assign_color(node, node_info):\n",
    "        if node_info.depth == depth:\n",
    "            node.color = colors[node_info.child_index]  # Assign a color to each leaf node\n",
    "\n",
    "    octree.traverse(assign_color)\n",
    "\n",
    "# Define the octree depth\n",
    "octree_depth = 8  # Higher depth = more subdivisions\n",
    "\n",
    "# Create an octree and convert the point cloud into it\n",
    "octree = o3d.geometry.Octree(max_depth=octree_depth)\n",
    "octree.convert_from_point_cloud(pcd, size_expand=0.01)  # Expand slightly to ensure full coverage\n",
    "\n",
    "colorize_octree(octree, depth=octree_depth)\n",
    "o3d.visualization.draw_geometries([octree])\n"
   ]
  },
  {
   "cell_type": "code",
   "execution_count": 5,
   "metadata": {},
   "outputs": [],
   "source": [
    "def calculate_eigen_norm_and_plane_direction(neighbor_coordinates):\n",
    "    if len(neighbor_coordinates) < 3:\n",
    "        return np.array([0, 0, 0]), np.array([0, 0, 0]), np.array([0, 0, 0])\n",
    "    \n",
    "    mu = np.mean(neighbor_coordinates, axis=0)\n",
    "    norm = neighbor_coordinates - mu\n",
    "    cov = np.cov(norm.T)\n",
    "    eig_val, eig_vec = np.linalg.eig(cov)\n",
    "    sorted_idx = np.argsort(eig_val)[::-1]\n",
    "    eig_val = eig_val[sorted_idx]\n",
    "    eig_vec = eig_vec[:, sorted_idx]\n",
    "    eig_val_norm = eig_val.copy()\n",
    "\n",
    "    for z in range(len(eig_val)):\n",
    "        eig_val_norm[z] = np.exp(eig_val[z])/np.sum(np.exp(eig_val))\n",
    "\n",
    "    plane_direction = np.cross(eig_vec[:, 0], eig_vec[:, 1])\n",
    "\n",
    "    return mu, eig_val_norm, plane_direction"
   ]
  },
  {
   "cell_type": "code",
   "execution_count": null,
   "metadata": {},
   "outputs": [
    {
     "name": "stdout",
     "output_type": "stream",
     "text": [
      "Total lines rendered: 51057\n"
     ]
    },
    {
     "ename": "TypeError",
     "evalue": "draw_geometries(): incompatible function arguments. The following argument types are supported:\n    1. (geometry_list: List[open3d.cuda.pybind.geometry.Geometry], window_name: str = 'Open3D', width: int = 1920, height: int = 1080, left: int = 50, top: int = 50, point_show_normal: bool = False, mesh_show_wireframe: bool = False, mesh_show_back_face: bool = False) -> None\n    2. (geometry_list: List[open3d.cuda.pybind.geometry.Geometry], window_name: str = 'Open3D', width: int = 1920, height: int = 1080, left: int = 50, top: int = 50, point_show_normal: bool = False, mesh_show_wireframe: bool = False, mesh_show_back_face: bool = False, lookat: numpy.ndarray[numpy.float64[3, 1]], up: numpy.ndarray[numpy.float64[3, 1]], front: numpy.ndarray[numpy.float64[3, 1]], zoom: float) -> None\n\nInvoked with: LineSet with 51057 lines.",
     "output_type": "error",
     "traceback": [
      "\u001b[0;31m---------------------------------------------------------------------------\u001b[0m",
      "\u001b[0;31mTypeError\u001b[0m                                 Traceback (most recent call last)",
      "Cell \u001b[0;32mIn[6], line 38\u001b[0m\n\u001b[1;32m     35\u001b[0m     \u001b[38;5;28;01mreturn\u001b[39;00m line_set\n\u001b[1;32m     37\u001b[0m line_set \u001b[38;5;241m=\u001b[39m apply_pca_to_tree(pcd, octree, depth\u001b[38;5;241m=\u001b[39moctree_depth)\n\u001b[0;32m---> 38\u001b[0m \u001b[43mo3d\u001b[49m\u001b[38;5;241;43m.\u001b[39;49m\u001b[43mvisualization\u001b[49m\u001b[38;5;241;43m.\u001b[39;49m\u001b[43mdraw_geometries\u001b[49m\u001b[43m(\u001b[49m\u001b[43mline_set\u001b[49m\u001b[43m)\u001b[49m\n",
      "\u001b[0;31mTypeError\u001b[0m: draw_geometries(): incompatible function arguments. The following argument types are supported:\n    1. (geometry_list: List[open3d.cuda.pybind.geometry.Geometry], window_name: str = 'Open3D', width: int = 1920, height: int = 1080, left: int = 50, top: int = 50, point_show_normal: bool = False, mesh_show_wireframe: bool = False, mesh_show_back_face: bool = False) -> None\n    2. (geometry_list: List[open3d.cuda.pybind.geometry.Geometry], window_name: str = 'Open3D', width: int = 1920, height: int = 1080, left: int = 50, top: int = 50, point_show_normal: bool = False, mesh_show_wireframe: bool = False, mesh_show_back_face: bool = False, lookat: numpy.ndarray[numpy.float64[3, 1]], up: numpy.ndarray[numpy.float64[3, 1]], front: numpy.ndarray[numpy.float64[3, 1]], zoom: float) -> None\n\nInvoked with: LineSet with 51057 lines."
     ]
    }
   ],
   "source": [
    "def apply_pca_to_tree(pcd, octree, depth=8, vector_scale=2, min_points=10):\n",
    "    lines = []\n",
    "    colors = []\n",
    "    all_points = np.asarray(pcd.points)\n",
    "    def apply_pca(node, node_info):\n",
    "        if node_info.depth == depth and isinstance(node, o3d.geometry.OctreeLeafNode):\n",
    "            #print('Hi')\n",
    "            if hasattr(node, \"indices\"):\n",
    "                leaf_points = all_points[node.indices]\n",
    "\n",
    "                if len(leaf_points) < min_points:\n",
    "                    return\n",
    "                \n",
    "                mu, eig_val, plane_direction = calculate_eigen_norm_and_plane_direction(leaf_points)\n",
    "                # Compute start and end points of the line\n",
    "                start_point = mu - (vector_scale / 2) * plane_direction\n",
    "                end_point = mu + (vector_scale / 2) * plane_direction\n",
    "\n",
    "                # Store the line\n",
    "                lines.append([start_point, end_point])\n",
    "                colors.append([0, 0, 1])  # Blue lines\n",
    "\n",
    "    octree.traverse(apply_pca)\n"
   ]
  }
 ],
 "metadata": {
  "kernelspec": {
   "display_name": "pointclouds",
   "language": "python",
   "name": "python3"
  },
  "language_info": {
   "codemirror_mode": {
    "name": "ipython",
    "version": 3
   },
   "file_extension": ".py",
   "mimetype": "text/x-python",
   "name": "python",
   "nbconvert_exporter": "python",
   "pygments_lexer": "ipython3",
   "version": "3.9.16"
  }
 },
 "nbformat": 4,
 "nbformat_minor": 2
}
