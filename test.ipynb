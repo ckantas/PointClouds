{
 "cells": [
  {
   "cell_type": "code",
   "execution_count": 9,
   "metadata": {},
   "outputs": [],
   "source": [
    "import numpy as np\n",
    "import open3d as o3d\n",
    "import matplotlib.pyplot as plt\n",
    "import math\n",
    "from functools import partial\n",
    "from open3d.t.geometry import TriangleMesh\n",
    "import util"
   ]
  },
  {
   "cell_type": "code",
   "execution_count": 10,
   "metadata": {},
   "outputs": [],
   "source": [
    "dataname = \"/home/chris/Code/PointClouds/data/ply/CircularVentilationGrateExtraCleanedFull.ply\"\n",
    "pcd = o3d.io.read_point_cloud(dataname)\n",
    "pcd = util.preProcessCloud(pcd)"
   ]
  },
  {
   "cell_type": "code",
   "execution_count": 11,
   "metadata": {},
   "outputs": [],
   "source": [
    "def colorize_octree(octree, depth=8):\n",
    "    colors = np.random.rand(2**depth, 3)  # Generate random colors for nodes\n",
    "\n",
    "    def assign_color(node, node_info):\n",
    "        if node_info.depth == depth:\n",
    "            node.color = colors[node_info.child_index]  # Assign a color to each leaf node\n",
    "\n",
    "    octree.traverse(assign_color)\n",
    "\n",
    "# Define the octree depth\n",
    "octree_depth = 8  # Higher depth = more subdivisions\n",
    "\n",
    "# Create an octree and convert the point cloud into it\n",
    "octree = o3d.geometry.Octree(max_depth=octree_depth)\n",
    "octree.convert_from_point_cloud(pcd, size_expand=0.01)  # Expand slightly to ensure full coverage\n",
    "\n",
    "# colorize_octree(octree, depth=octree_depth)\n",
    "o3d.visualization.draw_geometries([octree])\n"
   ]
  },
  {
   "cell_type": "code",
   "execution_count": 12,
   "metadata": {},
   "outputs": [],
   "source": [
    "def calculate_eigen_norm_and_plane_direction(neighbor_coordinates):\n",
    "    if len(neighbor_coordinates) < 3:\n",
    "        return np.array([0, 0, 0]), np.array([0, 0, 0]), np.array([0, 0, 0])\n",
    "    \n",
    "    mu = np.mean(neighbor_coordinates, axis=0)\n",
    "    norm = neighbor_coordinates - mu\n",
    "    cov = np.cov(norm.T)\n",
    "    eig_val, eig_vec = np.linalg.eig(cov)\n",
    "    sorted_idx = np.argsort(eig_val)[::-1]\n",
    "    eig_val = eig_val[sorted_idx]\n",
    "    eig_vec = eig_vec[:, sorted_idx]\n",
    "    eig_val_norm = eig_val.copy()\n",
    "\n",
    "    for z in range(len(eig_val)):\n",
    "        eig_val_norm[z] = np.exp(eig_val[z])/np.sum(np.exp(eig_val))\n",
    "\n",
    "    plane_direction = np.cross(eig_vec[:, 0], eig_vec[:, 1])\n",
    "\n",
    "    return mu, eig_val_norm, plane_direction"
   ]
  },
  {
   "cell_type": "code",
   "execution_count": 13,
   "metadata": {},
   "outputs": [],
   "source": [
    "import colorsys  # For HSV to RGB conversion\n",
    "\n",
    "def plane_direction_to_color(plane_direction):\n",
    "    \"\"\" Convert a plane normal (x, y, z) into an RGB color using a hue sphere mapping. \"\"\"\n",
    "    # Normalize direction vector\n",
    "    plane_direction = plane_direction / np.linalg.norm(plane_direction)\n",
    "\n",
    "    # Compute spherical coordinates\n",
    "    theta = np.arctan2(plane_direction[1], plane_direction[0])  # Azimuth\n",
    "    phi = np.arccos(plane_direction[2])  # Inclination\n",
    "\n",
    "    # Normalize theta to [0,1] for hue (H)\n",
    "    hue = (theta + np.pi) / (2 * np.pi)  # Map [-π, π] to [0,1]\n",
    "\n",
    "    # Use fixed Saturation (S) and Value (V)\n",
    "    saturation = 1.0\n",
    "    value = 1.0\n",
    "\n",
    "    # Convert HSV to RGB\n",
    "    r, g, b = colorsys.hsv_to_rgb(hue, saturation, value)\n",
    "    return [r, g, b]\n",
    "\n",
    "def apply_pca_to_tree(pcd, octree, depth=8, vector_scale=0.4, min_points=5):\n",
    "    lines = []\n",
    "    colors = []\n",
    "    all_points = np.asarray(pcd.points)\n",
    "    def apply_pca(node, node_info):\n",
    "        if node_info.depth == depth and isinstance(node, o3d.geometry.OctreeLeafNode):\n",
    "            #print('Hi')\n",
    "            if hasattr(node, \"indices\"):\n",
    "                leaf_points = all_points[node.indices]\n",
    "\n",
    "                if len(leaf_points) < min_points:\n",
    "                    return\n",
    "                \n",
    "                mu, _, plane_direction = calculate_eigen_norm_and_plane_direction(leaf_points)\n",
    "                # Compute start and end points of the line\n",
    "                start_point = mu - (vector_scale / 2) * plane_direction\n",
    "                end_point = mu + (vector_scale / 2) * plane_direction\n",
    "\n",
    "                # Store the line\n",
    "                lines.append([start_point, end_point])\n",
    "                color = plane_direction_to_color(plane_direction)\n",
    "                colors.append(color)\n",
    "                colors.append(color)\n",
    "\n",
    "    octree.traverse(apply_pca)\n",
    "    return lines, colors\n"
   ]
  },
  {
   "cell_type": "code",
   "execution_count": 14,
   "metadata": {},
   "outputs": [],
   "source": [
    "lines, colors = apply_pca_to_tree(pcd, octree, depth=octree_depth, vector_scale=0.4, min_points=5)"
   ]
  },
  {
   "cell_type": "code",
   "execution_count": null,
   "metadata": {},
   "outputs": [
    {
     "name": "stdout",
     "output_type": "stream",
     "text": [
      "Rendering batch 1\n",
      "Rendering batch 2\n",
      "Rendering batch 3\n",
      "Rendering batch 4\n",
      "Rendering batch 5\n",
      "Rendering batch 6\n"
     ]
    }
   ],
   "source": [
    "import time\n",
    "\n",
    "def visualize_lines(lines, colors, batch_size=10000):\n",
    "    vis = o3d.visualization.Visualizer()\n",
    "    vis.create_window()\n",
    "\n",
    "    # Convert to Open3D format\n",
    "    line_set = o3d.geometry.LineSet()\n",
    "    line_set.points = o3d.utility.Vector3dVector(np.concatenate(lines, axis=0))\n",
    "\n",
    "    # Fix line indexing\n",
    "    line_indices = [[i, i + 1] for i in range(len(lines))]\n",
    "    line_set.lines = o3d.utility.Vector2iVector(line_indices)\n",
    "\n",
    "    # Ensure colors match line count\n",
    "    line_set.colors = o3d.utility.Vector3dVector(colors)\n",
    "\n",
    "    # Add in batches to prevent skipping\n",
    "    for i in range(0, len(line_indices), batch_size):\n",
    "        print(f\"Rendering batch {i // batch_size + 1}\")\n",
    "        batch_lines = o3d.geometry.LineSet()\n",
    "        batch_lines.points = line_set.points\n",
    "        batch_lines.lines = o3d.utility.Vector2iVector(line_indices[i:i + batch_size])\n",
    "        batch_lines.colors = o3d.utility.Vector3dVector(colors[i:i + batch_size])  # Fix here\n",
    "        vis.add_geometry(batch_lines)\n",
    "        vis.poll_events()\n",
    "        vis.update_renderer()\n",
    "\n",
    "    vis.run()\n",
    "    vis.destroy_window()\n",
    "\n",
    "# Run the visualization\n",
    "visualize_lines(lines, colors)"
   ]
  }
 ],
 "metadata": {
  "kernelspec": {
   "display_name": "pointclouds",
   "language": "python",
   "name": "python3"
  },
  "language_info": {
   "codemirror_mode": {
    "name": "ipython",
    "version": 3
   },
   "file_extension": ".py",
   "mimetype": "text/x-python",
   "name": "python",
   "nbconvert_exporter": "python",
   "pygments_lexer": "ipython3",
   "version": "3.9.16"
  }
 },
 "nbformat": 4,
 "nbformat_minor": 2
}
